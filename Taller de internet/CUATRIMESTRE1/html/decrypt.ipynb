{
 "cells": [
  {
   "cell_type": "code",
   "execution_count": 4,
   "metadata": {},
   "outputs": [],
   "source": [
    "import math\n",
    "import matplotlib.pyplot as plt"
   ]
  },
  {
   "cell_type": "code",
   "execution_count": 1,
   "metadata": {},
   "outputs": [],
   "source": [
    "def clean_text(dirty_text):\n",
    "    text = dirty_text.lower() # estandarizar texto\n",
    "    stuff_to_clean = [\"?\", \".\",\",\",\"(\",\")\",\"=\",\"!\",\"-\",\":\",\"&\",\"#\",] # Caracteres no deseados\n",
    "    for dirty_item in stuff_to_clean:  \n",
    "        text = text.replace(dirty_item, \"\") # Eliminamos cada elemento no deseado del texto brindado\n",
    "    \n",
    "    text = text.replace(\";\", \" \") # Eliminamos cada elemento no deseado del texto brindado\n",
    "    \n",
    "    text = text.split() # Transformamos el texto en una lista\n",
    "    return text"
   ]
  },
  {
   "cell_type": "code",
   "execution_count": 3,
   "metadata": {},
   "outputs": [],
   "source": [
    "code = \"&#99;&#72;&#81;&#103;&#101;&#110;&#66;&#108;&#89;&#87;&#120;&#115;&#100;&#83;&#66;&#49;&#100;&#109;&#69;&#103;&#98;&#72;&#66;&#117;&#98;&#50;&#70;&#115;&#98;&#72;&#85;&#103;&#99;&#67;&#66;&#122;&#99;&#71;&#120;&#114;&#73;&#71;&#70;&#50;&#73;&#71;&#108;&#115;&#73;&#72;&#82;&#50;&#101;&#87;&#119;&#103;&#101;&#87;&#120;&#54;&#100;&#50;&#120;&#113;&#89;&#87;&#120;&#114\"\n",
    "clean = clean_text(code)\n"
   ]
  },
  {
   "cell_type": "code",
   "execution_count": 12,
   "metadata": {},
   "outputs": [],
   "source": [
    "def word_count(list):\n",
    "    counter={}\n",
    "    for item in list: # El texto se transforma a min´úsculas y si le eliminan caracteres no deseados\n",
    "        if item in counter.keys(): # En caso de que la palabra ya se encuentre en el contador...\n",
    "            counter[item] += 1 # Sumar 1 repetición.\n",
    "        else:\n",
    "            counter[item] = 1 # En caso contrario se agrega la palabra.\n",
    "\n",
    "    plt.bar(counter.keys(), counter.values())\n",
    "    plt.xlabel('Numbers')\n",
    "    plt.ylabel('Repetitions')\n",
    "    plt.title('Numbers x Repetitions')\n",
    "    plt.xticks(rotation=90)\n",
    "    plt.show()\n",
    "\n",
    "    return counter\n",
    "    "
   ]
  },
  {
   "cell_type": "code",
   "execution_count": 15,
   "metadata": {},
   "outputs": [
    {
     "data": {
      "image/png": "[encoded data removed]",
      "text/plain": [
       "<Figure size 640x480 with 1 Axes>"
      ]
     },
     "metadata": {},
     "output_type": "display_data"
    },
    {
     "data": {
      "text/plain": [
       "{'99': 3,\n",
       " '72': 4,\n",
       " '81': 1,\n",
       " '103': 4,\n",
       " '101': 3,\n",
       " '110': 1,\n",
       " '66': 4,\n",
       " '108': 2,\n",
       " '89': 2,\n",
       " '87': 4,\n",
       " '120': 5,\n",
       " '115': 3,\n",
       " '100': 3,\n",
       " '83': 1,\n",
       " '49': 1,\n",
       " '109': 1,\n",
       " '69': 1,\n",
       " '98': 3,\n",
       " '117': 1,\n",
       " '50': 4,\n",
       " '70': 2,\n",
       " '85': 1,\n",
       " '67': 1,\n",
       " '122': 1,\n",
       " '71': 3,\n",
       " '114': 2,\n",
       " '73': 3,\n",
       " '82': 1,\n",
       " '119': 1,\n",
       " '54': 1,\n",
       " '113': 1}"
      ]
     },
     "execution_count": 15,
     "metadata": {},
     "output_type": "execute_result"
    }
   ],
   "source": [
    "word_count(clean)"
   ]
  },
  {
   "cell_type": "code",
   "execution_count": 11,
   "metadata": {},
   "outputs": [
    {
     "name": "stdout",
     "output_type": "stream",
     "text": [
      "cHQgenBlYWxsdSB1dmEgbHBub2FsbHUgcCBzcGxrIGF2IGlsIHR2eWwgeWx6d2xqYWxr\n"
     ]
    }
   ],
   "source": [
    "encoded_string = \"&#99;&#72;&#81;&#103;&#101;&#110;&#66;&#108;&#89;&#87;&#120;&#115;&#100;&#83;&#66;&#49;&#100;&#109;&#69;&#103;&#98;&#72;&#66;&#117;&#98;&#50;&#70;&#115;&#98;&#72;&#85;&#103;&#99;&#67;&#66;&#122;&#99;&#71;&#120;&#114;&#73;&#71;&#70;&#50;&#73;&#71;&#108;&#115;&#73;&#72;&#82;&#50;&#101;&#87;&#119;&#103;&#101;&#87;&#120;&#54;&#100;&#50;&#120;&#113;&#89;&#87;&#120;&#114;\"\n",
    "\n",
    "# Split the string into individual character codes\n",
    "char_codes = encoded_string.split(';')\n",
    "\n",
    "# Remove the last empty element from the split\n",
    "char_codes = char_codes[:-1]\n",
    "\n",
    "# Decode the character codes and join them into a string\n",
    "decoded_string = ''.join(chr(int(code[2:], 10)) for code in char_codes)\n",
    "\n",
    "print(decoded_string)\n"
   ]
  },
  {
   "cell_type": "code",
   "execution_count": 17,
   "metadata": {},
   "outputs": [
    {
     "name": "stdout",
     "output_type": "stream",
     "text": [
      "cHQgenBlYWxsdSB1dmEgbHBub2FsbHUgcCBzcGxrIGF2IGlsIHR2eWwgeWx6d2xqYWxr\n"
     ]
    }
   ],
   "source": [
    "def ascii_to_string(ascii_list):\n",
    "    decoded_string = \"\"\n",
    "    for ascii_val in ascii_list:\n",
    "        char = chr(int(ascii_val))\n",
    "        decoded_string += char\n",
    "    return decoded_string\n",
    "\n",
    "# Test the function with the provided ASCII values\n",
    "# ascii_values = ['81', '110', '83', '49', '109', '69', '117', '85', '67', '122', '82', '119', '54', '113']\n",
    "decoded_string = ascii_to_string(clean)\n",
    "print(decoded_string)\n"
   ]
  }
 ],
 "metadata": {
  "kernelspec": {
   "display_name": "Python 3",
   "language": "python",
   "name": "python3"
  },
  "language_info": {
   "codemirror_mode": {
    "name": "ipython",
    "version": 3
   },
   "file_extension": ".py",
   "mimetype": "text/x-python",
   "name": "python",
   "nbconvert_exporter": "python",
   "pygments_lexer": "ipython3",
   "version": "3.11.8"
  }
 },
 "nbformat": 4,
 "nbformat_minor": 2
}
