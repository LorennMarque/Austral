{
 "cells": [
  {
   "cell_type": "markdown",
   "metadata": {},
   "source": [
    "Verificar si un Número es Primo:\n"
   ]
  },
  {
   "cell_type": "code",
   "execution_count": 345,
   "metadata": {},
   "outputs": [],
   "source": [
    "import math"
   ]
  },
  {
   "cell_type": "code",
   "execution_count": 346,
   "metadata": {},
   "outputs": [],
   "source": [
    "def is_prime_number(number):\n",
    "    if number > 1:\n",
    "        if number == 2 or number == 3:\n",
    "            return True\n",
    "        \n",
    "    # Por tentativa\n",
    "        for i in range(math.ceil(math.sqrt(number))):\n",
    "            if (number % (i+2) == 0):\n",
    "                return False\n",
    "            \n",
    "        return True\n",
    "    else:\n",
    "        return False\n",
    "    "
   ]
  },
  {
   "cell_type": "code",
   "execution_count": 347,
   "metadata": {},
   "outputs": [
    {
     "name": "stdout",
     "output_type": "stream",
     "text": [
      "0 no ❌ es un número primo\n",
      "1 no ❌ es un número primo\n",
      "2 si ✅ es un número primo\n",
      "3 si ✅ es un número primo\n",
      "4 no ❌ es un número primo\n",
      "5 si ✅ es un número primo\n",
      "6 no ❌ es un número primo\n",
      "7 si ✅ es un número primo\n",
      "8 no ❌ es un número primo\n",
      "9 no ❌ es un número primo\n",
      "10 no ❌ es un número primo\n",
      "11 si ✅ es un número primo\n",
      "12 no ❌ es un número primo\n",
      "13 si ✅ es un número primo\n",
      "14 no ❌ es un número primo\n",
      "15 no ❌ es un número primo\n",
      "16 no ❌ es un número primo\n",
      "17 si ✅ es un número primo\n",
      "18 no ❌ es un número primo\n",
      "19 si ✅ es un número primo\n",
      "20 no ❌ es un número primo\n",
      "21 no ❌ es un número primo\n",
      "22 no ❌ es un número primo\n",
      "23 si ✅ es un número primo\n",
      "24 no ❌ es un número primo\n",
      "25 no ❌ es un número primo\n",
      "26 no ❌ es un número primo\n",
      "27 no ❌ es un número primo\n",
      "28 no ❌ es un número primo\n",
      "29 si ✅ es un número primo\n",
      "30 no ❌ es un número primo\n",
      "31 si ✅ es un número primo\n",
      "32 no ❌ es un número primo\n",
      "33 no ❌ es un número primo\n",
      "34 no ❌ es un número primo\n",
      "35 no ❌ es un número primo\n",
      "36 no ❌ es un número primo\n",
      "37 si ✅ es un número primo\n",
      "38 no ❌ es un número primo\n",
      "39 no ❌ es un número primo\n",
      "40 no ❌ es un número primo\n",
      "41 si ✅ es un número primo\n",
      "42 no ❌ es un número primo\n",
      "43 si ✅ es un número primo\n",
      "44 no ❌ es un número primo\n",
      "45 no ❌ es un número primo\n",
      "46 no ❌ es un número primo\n",
      "47 si ✅ es un número primo\n",
      "48 no ❌ es un número primo\n",
      "49 no ❌ es un número primo\n",
      "50 no ❌ es un número primo\n",
      "51 no ❌ es un número primo\n",
      "52 no ❌ es un número primo\n",
      "53 si ✅ es un número primo\n",
      "54 no ❌ es un número primo\n",
      "55 no ❌ es un número primo\n",
      "56 no ❌ es un número primo\n",
      "57 no ❌ es un número primo\n",
      "58 no ❌ es un número primo\n",
      "59 si ✅ es un número primo\n",
      "60 no ❌ es un número primo\n",
      "61 si ✅ es un número primo\n",
      "62 no ❌ es un número primo\n",
      "63 no ❌ es un número primo\n",
      "64 no ❌ es un número primo\n",
      "65 no ❌ es un número primo\n",
      "66 no ❌ es un número primo\n",
      "67 si ✅ es un número primo\n",
      "68 no ❌ es un número primo\n",
      "69 no ❌ es un número primo\n",
      "70 no ❌ es un número primo\n",
      "71 si ✅ es un número primo\n",
      "72 no ❌ es un número primo\n",
      "73 si ✅ es un número primo\n",
      "74 no ❌ es un número primo\n",
      "75 no ❌ es un número primo\n",
      "76 no ❌ es un número primo\n",
      "77 no ❌ es un número primo\n",
      "78 no ❌ es un número primo\n",
      "79 si ✅ es un número primo\n",
      "80 no ❌ es un número primo\n",
      "81 no ❌ es un número primo\n",
      "82 no ❌ es un número primo\n",
      "83 si ✅ es un número primo\n",
      "84 no ❌ es un número primo\n",
      "85 no ❌ es un número primo\n",
      "86 no ❌ es un número primo\n",
      "87 no ❌ es un número primo\n",
      "88 no ❌ es un número primo\n",
      "89 si ✅ es un número primo\n",
      "90 no ❌ es un número primo\n",
      "91 no ❌ es un número primo\n",
      "92 no ❌ es un número primo\n",
      "93 no ❌ es un número primo\n",
      "94 no ❌ es un número primo\n",
      "95 no ❌ es un número primo\n",
      "96 no ❌ es un número primo\n",
      "97 si ✅ es un número primo\n",
      "98 no ❌ es un número primo\n",
      "99 no ❌ es un número primo\n"
     ]
    }
   ],
   "source": [
    "# Tests\n",
    "for i in range (100):\n",
    "    state = \"si ✅\" if is_prime_number(i) else \"no ❌\"\n",
    "    print(f\"{i} {state} es un número primo\")"
   ]
  },
  {
   "cell_type": "markdown",
   "metadata": {},
   "source": [
    "Luego, utilizar la función is_prime_number para hacer un print de:\n",
    "print(f\"{numero} es un número primo.\") en caso de que el número sea primo, o\n",
    "print(f\"{numero} no es un número primo.\") es caso contrario\n"
   ]
  },
  {
   "cell_type": "markdown",
   "metadata": {},
   "source": [
    "2. Cálculo de Estadísticas Básicas:\n",
    "Escribir una función que tome una lista de números como entrada y calcule la suma, el\n",
    "promedio, el valor máximo y el valor mínimo de esos números.\n",
    "Puedes solicitar al usuario que ingrese los números o puedes generar una lista aleatoria.\n",
    "Los resultados deben imprimirse por consola."
   ]
  },
  {
   "cell_type": "code",
   "execution_count": 348,
   "metadata": {},
   "outputs": [],
   "source": [
    "def calcuate_statistics(numbers):\n",
    "    suma = 0\n",
    "    promedio = 0\n",
    "    maximo = 0\n",
    "    minimo = 0\n",
    "\n",
    "    for i in range(len(numbers)):\n",
    "        suma += numbers[i]\n",
    "\n",
    "    outliers = numbers\n",
    "    outliers.sort()\n",
    "    maximo = outliers[-1]\n",
    "    minimo = outliers[0]\n",
    "\n",
    "    promedio = suma / len(numbers)\n",
    "    print(f\"Suma: {suma}, Promedio: {promedio}, Máximo: {maximo}, Mínimo: {minimo}\")\n",
    "    return suma, maximo, minimo, promedio\n"
   ]
  },
  {
   "cell_type": "code",
   "execution_count": 349,
   "metadata": {},
   "outputs": [
    {
     "name": "stdout",
     "output_type": "stream",
     "text": [
      "Suma: 1073, Promedio: 153.28571428571428, Máximo: 654, Mínimo: 1\n"
     ]
    },
    {
     "data": {
      "text/plain": [
       "(1073, 654, 1, 153.28571428571428)"
      ]
     },
     "execution_count": 349,
     "metadata": {},
     "output_type": "execute_result"
    }
   ],
   "source": [
    "# Tests\n",
    "calcuate_statistics([1,10,3,5,654,324,76])\n"
   ]
  },
  {
   "cell_type": "markdown",
   "metadata": {},
   "source": [
    "3. Análisis de Palabras en un Texto:\n"
   ]
  },
  {
   "cell_type": "code",
   "execution_count": 350,
   "metadata": {},
   "outputs": [],
   "source": [
    "def word_count(text):\n",
    "\n",
    "    #clean my text\n",
    "    text = text.lower() #lowercase\n",
    "    stuff_to_clean = [\"?\", \".\",\",\",\"(\",\")\",\"=\",\"!\",\"-\",\":\"]\n",
    "    for dirty_item in stuff_to_clean:\n",
    "        text = text.replace(dirty_item, \"\")\n",
    "    text = text.split()\n",
    "\n",
    "    counter = {}\n",
    "\n",
    "    for word in text:\n",
    "        if word in counter.keys():\n",
    "            counter[word] += 1\n",
    "        else:\n",
    "            counter[word] = 1\n",
    "    \n",
    "    return counter"
   ]
  },
  {
   "cell_type": "code",
   "execution_count": 351,
   "metadata": {},
   "outputs": [
    {
     "name": "stdout",
     "output_type": "stream",
     "text": [
      "Test 1\n",
      "-------------------------------\n",
      "Test 2\n",
      "-------------------------------\n",
      "Test 3\n",
      "-------------------------------\n",
      "Test 3\n",
      "{'hola': 3, 'mundo': 1}\n"
     ]
    }
   ],
   "source": [
    "# Tests\n",
    "print(\"Test 1\")\n",
    "word_count(\"Hola mundo\") # Test 1 ✅\n",
    "print(\"-------------------------------\")\n",
    "print(\"Test 2\")\n",
    "word_count(\"Hola mundo hola hola\") # Test 2 repetition.\n",
    "print(\"-------------------------------\")\n",
    "print(\"Test 3\")\n",
    "x = word_count(\"Hola. mundo: hola?? hola\") # Test 2 repetition.\n",
    "# Wrong Output: {'hola.': 1, 'mundo': 1, 'hola??': 1, 'hola': 1}\n",
    "print(\"-------------------------------\")\n",
    "print(\"Test 3\")\n",
    "top_10 = {}\n",
    "for i in range(10 if len(x) >= 10 else len(x)):\n",
    "    top_10[max(x, key=x.get)] = x[max(x, key=x.get)]\n",
    "\n",
    "    x[max(x, key=x.get)] = 0\n",
    "    # del x[[max(x, key=x.get)]]\n",
    "print(top_10)\n"
   ]
  },
  {
   "cell_type": "code",
   "execution_count": 352,
   "metadata": {},
   "outputs": [
    {
     "name": "stdout",
     "output_type": "stream",
     "text": [
      "-------------------------------\n",
      "{'scriptscom': 1, 'bee': 3, 'movie': 1, 'by': 2, 'jerry': 1, 'seinfeld': 1, 'narrator': 1, 'black': 6, 'screen': 1, 'with': 1, 'text;': 1, 'the': 9, 'sound': 1, 'of': 4, 'buzzing': 1, 'bees': 2, 'can': 2, 'be': 3, 'heard': 1, 'according': 1, 'to': 4, 'all': 2, 'known': 1, 'laws': 1, 'aviation': 1, 'there': 1, 'is': 7, 'no': 1, 'way': 1, 'a': 8, 'should': 1, 'able': 1, 'fly': 1, 'its': 2, 'wings': 1, 'are': 1, 'too': 1, 'small': 1, 'get': 1, 'fat': 1, 'little': 2, 'body': 1, 'off': 1, 'ground': 1, 'course': 1, 'flies': 3, 'anyway': 1, 'because': 1, \"don't\": 1, 'care': 1, 'what': 1, 'humans': 1, 'think': 1, 'impossible': 1, 'barry': 17, 'benson': 3, 'picking': 1, 'out': 2, 'shirt': 1, 'yellow': 5, 'ooh': 1, 'and': 1, \"let's\": 1, 'shake': 1, 'it': 1, 'up': 2, 'janet': 6, 'breakfast': 1, 'ready': 1, 'coming': 1, 'hang': 1, 'on': 2, 'second': 1, 'uses': 1, 'his': 1, 'antenna': 1, 'like': 1, 'phone': 2, 'hello': 1, 'adam': 6, 'flayman': 1, 'through': 2, 'you': 5, 'believe': 1, 'this': 1, 'happening': 1, 'i': 3, \"can't\": 1, \"i'll\": 1, 'pick': 1, 'down': 1, 'stairs': 2, 'martin': 2, 'looking': 1, 'sharp': 1, 'use': 1, 'your': 2, 'father': 1, 'paid': 1, 'good': 1, 'money': 1, 'for': 1, 'those': 1, 'sorry': 1, \"i'm\": 1, 'excited': 1, \"here's\": 1, 'graduate': 1, \"we're\": 1, 'very': 2, 'proud': 2, 'son': 1, 'perfect': 1, 'report': 1, 'card': 1, \"b's\": 1, 'rubs': 1, \"barry's\": 1, 'hair': 1, 'ma': 1, 'got': 2, 'thing': 1, 'going': 1, 'here': 1, 'lint': 1, 'fuzz': 1, 'ow': 1, \"that's\": 1, 'me': 1, 'wave': 1, 'us': 1, \"we'll\": 1, 'in': 2, 'row': 1, '118000': 1, 'bye': 1, 'door': 1, 'told': 1, 'stop': 1, 'flying': 1, 'house': 1, 'drives': 1, 'hiveand': 1, 'waved': 1, 'at': 1, 'who': 1, 'reading': 1, 'newspaper': 1, 'hey': 2}\n",
      "-------------------------------\n",
      "{'barry': 17, 'the': 9, 'a': 8, 'is': 7, 'black': 6, 'janet': 6, 'adam': 6, 'yellow': 5, 'you': 5, 'of': 4}\n"
     ]
    }
   ],
   "source": [
    "x = word_count(\"\"\"\n",
    "Scripts.com\n",
    "Bee Movie\n",
    "By Jerry Seinfeld\n",
    "\n",
    "NARRATOR:\n",
    "(Black screen with text; The sound of buzzing bees can be heard)\n",
    "According to all known laws\n",
    "of aviation,\n",
    " :\n",
    "there is no way a bee\n",
    "should be able to fly.\n",
    " :\n",
    "Its wings are too small to get\n",
    "its fat little body off the ground.\n",
    " :\n",
    "The bee, of course, flies anyway\n",
    " :\n",
    "because bees don't care\n",
    "what humans think is impossible.\n",
    "BARRY BENSON:\n",
    "(Barry is picking out a shirt)\n",
    "Yellow, black. Yellow, black.\n",
    "Yellow, black. Yellow, black.\n",
    " :\n",
    "Ooh, black and yellow!\n",
    "Let's shake it up a little.\n",
    "JANET BENSON:\n",
    "Barry! Breakfast is ready!\n",
    "BARRY:\n",
    "Coming!\n",
    " :\n",
    "Hang on a second.\n",
    "(Barry uses his antenna like a phone)\n",
    " :\n",
    "Hello?\n",
    "ADAM FLAYMAN:\n",
    "\n",
    "(Through phone)\n",
    "- Barry?\n",
    "BARRY:\n",
    "- Adam?\n",
    "ADAM:\n",
    "- Can you believe this is happening?\n",
    "BARRY:\n",
    "- I can't. I'll pick you up.\n",
    "(Barry flies down the stairs)\n",
    " :\n",
    "MARTIN BENSON:\n",
    "Looking sharp.\n",
    "JANET:\n",
    "Use the stairs. Your father\n",
    "paid good money for those.\n",
    "BARRY:\n",
    "Sorry. I'm excited.\n",
    "MARTIN:\n",
    "Here's the graduate.\n",
    "We're very proud of you, son.\n",
    " :\n",
    "A perfect report card, all B's.\n",
    "JANET:\n",
    "Very proud.\n",
    "(Rubs Barry's hair)\n",
    "BARRY=\n",
    "Ma! I got a thing going here.\n",
    "JANET:\n",
    "- You got lint on your fuzz.\n",
    "BARRY:\n",
    "- Ow! That's me!\n",
    "\n",
    "JANET:\n",
    "- Wave to us! We'll be in row 118,000.\n",
    "- Bye!\n",
    "(Barry flies out the door)\n",
    "JANET:\n",
    "Barry, I told you,\n",
    "stop flying in the house!\n",
    "(Barry drives through the hive,and is waved at by Adam who is reading a\n",
    "newspaper)\n",
    "BARRY==\n",
    "- Hey, Adam.\n",
    "ADAM:\n",
    "- Hey, Barry.\n",
    "\"\"\")\n",
    "\n",
    "print(\"-------------------------------\")\n",
    "print(x)\n",
    "print(\"-------------------------------\")\n",
    "top_10 = {}\n",
    "for i in range(10 if len(x) >= 10 else len(x)):\n",
    "    top_10[max(x, key=x.get)] = x[max(x, key=x.get)]\n",
    "\n",
    "    x[max(x, key=x.get)] = 0\n",
    "    # del x[[max(x, key=x.get)]]\n",
    "print(top_10)"
   ]
  },
  {
   "cell_type": "markdown",
   "metadata": {},
   "source": [
    "Luego, realizar una función que reciba la frecuencia de palabras calculada con\n",
    "word_count e imprima las 10 palabras que aparecen con mayor frecuencia, junto con la\n",
    "cantidad de veces que aparece."
   ]
  }
 ],
 "metadata": {
  "kernelspec": {
   "display_name": "Python 3",
   "language": "python",
   "name": "python3"
  },
  "language_info": {
   "codemirror_mode": {
    "name": "ipython",
    "version": 3
   },
   "file_extension": ".py",
   "mimetype": "text/x-python",
   "name": "python",
   "nbconvert_exporter": "python",
   "pygments_lexer": "ipython3",
   "version": "3.11.8"
  }
 },
 "nbformat": 4,
 "nbformat_minor": 2
}
