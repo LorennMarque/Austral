{
 "cells": [
  {
   "cell_type": "code",
   "execution_count": null,
   "metadata": {},
   "outputs": [],
   "source": []
  },
  {
   "cell_type": "markdown",
   "metadata": {},
   "source": [
    "Verificar si un Número es Primo:\n"
   ]
  },
  {
   "cell_type": "code",
   "execution_count": 2,
   "metadata": {},
   "outputs": [],
   "source": [
    "import math\n",
    "import matplotlib.pyplot as plt"
   ]
  },
  {
   "cell_type": "code",
   "execution_count": 3,
   "metadata": {},
   "outputs": [],
   "source": [
    "def is_prime_number(number):\n",
    "    if number > 1:\n",
    "        if number == 2 or number == 3:\n",
    "            return True\n",
    "        \n",
    "    # Por tentativa\n",
    "        for i in range(math.ceil(math.sqrt(number))):\n",
    "            if (number % (i+2) == 0):\n",
    "                return False\n",
    "            \n",
    "        return True\n",
    "    else:\n",
    "        return False\n",
    "    "
   ]
  },
  {
   "cell_type": "code",
   "execution_count": 4,
   "metadata": {},
   "outputs": [
    {
     "name": "stdout",
     "output_type": "stream",
     "text": [
      "0 no ❌ es un número primo\n",
      "1 no ❌ es un número primo\n",
      "2 si ✅ es un número primo\n",
      "3 si ✅ es un número primo\n",
      "4 no ❌ es un número primo\n",
      "5 si ✅ es un número primo\n",
      "6 no ❌ es un número primo\n",
      "7 si ✅ es un número primo\n",
      "8 no ❌ es un número primo\n",
      "9 no ❌ es un número primo\n",
      "10 no ❌ es un número primo\n",
      "11 si ✅ es un número primo\n",
      "12 no ❌ es un número primo\n",
      "13 si ✅ es un número primo\n",
      "14 no ❌ es un número primo\n",
      "15 no ❌ es un número primo\n",
      "16 no ❌ es un número primo\n",
      "17 si ✅ es un número primo\n",
      "18 no ❌ es un número primo\n",
      "19 si ✅ es un número primo\n",
      "20 no ❌ es un número primo\n",
      "21 no ❌ es un número primo\n",
      "22 no ❌ es un número primo\n",
      "23 si ✅ es un número primo\n",
      "24 no ❌ es un número primo\n",
      "25 no ❌ es un número primo\n",
      "26 no ❌ es un número primo\n",
      "27 no ❌ es un número primo\n",
      "28 no ❌ es un número primo\n",
      "29 si ✅ es un número primo\n",
      "30 no ❌ es un número primo\n",
      "31 si ✅ es un número primo\n",
      "32 no ❌ es un número primo\n",
      "33 no ❌ es un número primo\n",
      "34 no ❌ es un número primo\n",
      "35 no ❌ es un número primo\n",
      "36 no ❌ es un número primo\n",
      "37 si ✅ es un número primo\n",
      "38 no ❌ es un número primo\n",
      "39 no ❌ es un número primo\n",
      "40 no ❌ es un número primo\n",
      "41 si ✅ es un número primo\n",
      "42 no ❌ es un número primo\n",
      "43 si ✅ es un número primo\n",
      "44 no ❌ es un número primo\n",
      "45 no ❌ es un número primo\n",
      "46 no ❌ es un número primo\n",
      "47 si ✅ es un número primo\n",
      "48 no ❌ es un número primo\n",
      "49 no ❌ es un número primo\n",
      "50 no ❌ es un número primo\n",
      "51 no ❌ es un número primo\n",
      "52 no ❌ es un número primo\n",
      "53 si ✅ es un número primo\n",
      "54 no ❌ es un número primo\n",
      "55 no ❌ es un número primo\n",
      "56 no ❌ es un número primo\n",
      "57 no ❌ es un número primo\n",
      "58 no ❌ es un número primo\n",
      "59 si ✅ es un número primo\n",
      "60 no ❌ es un número primo\n",
      "61 si ✅ es un número primo\n",
      "62 no ❌ es un número primo\n",
      "63 no ❌ es un número primo\n",
      "64 no ❌ es un número primo\n",
      "65 no ❌ es un número primo\n",
      "66 no ❌ es un número primo\n",
      "67 si ✅ es un número primo\n",
      "68 no ❌ es un número primo\n",
      "69 no ❌ es un número primo\n",
      "70 no ❌ es un número primo\n",
      "71 si ✅ es un número primo\n",
      "72 no ❌ es un número primo\n",
      "73 si ✅ es un número primo\n",
      "74 no ❌ es un número primo\n",
      "75 no ❌ es un número primo\n",
      "76 no ❌ es un número primo\n",
      "77 no ❌ es un número primo\n",
      "78 no ❌ es un número primo\n",
      "79 si ✅ es un número primo\n",
      "80 no ❌ es un número primo\n",
      "81 no ❌ es un número primo\n",
      "82 no ❌ es un número primo\n",
      "83 si ✅ es un número primo\n",
      "84 no ❌ es un número primo\n",
      "85 no ❌ es un número primo\n",
      "86 no ❌ es un número primo\n",
      "87 no ❌ es un número primo\n",
      "88 no ❌ es un número primo\n",
      "89 si ✅ es un número primo\n",
      "90 no ❌ es un número primo\n",
      "91 no ❌ es un número primo\n",
      "92 no ❌ es un número primo\n",
      "93 no ❌ es un número primo\n",
      "94 no ❌ es un número primo\n",
      "95 no ❌ es un número primo\n",
      "96 no ❌ es un número primo\n",
      "97 si ✅ es un número primo\n",
      "98 no ❌ es un número primo\n",
      "99 no ❌ es un número primo\n"
     ]
    }
   ],
   "source": [
    "# Tests\n",
    "for i in range (100):\n",
    "    state = \"si ✅\" if is_prime_number(i) else \"no ❌\"\n",
    "    print(f\"{i} {state} es un número primo\")"
   ]
  },
  {
   "cell_type": "markdown",
   "metadata": {},
   "source": [
    "Luego, utilizar la función is_prime_number para hacer un print de:\n",
    "print(f\"{numero} es un número primo.\") en caso de que el número sea primo, o\n",
    "print(f\"{numero} no es un número primo.\") es caso contrario\n"
   ]
  },
  {
   "cell_type": "markdown",
   "metadata": {},
   "source": [
    "2. Cálculo de Estadísticas Básicas:\n",
    "Escribir una función que tome una lista de números como entrada y calcule la suma, el\n",
    "promedio, el valor máximo y el valor mínimo de esos números.\n",
    "Puedes solicitar al usuario que ingrese los números o puedes generar una lista aleatoria.\n",
    "Los resultados deben imprimirse por consola."
   ]
  },
  {
   "cell_type": "code",
   "execution_count": 5,
   "metadata": {},
   "outputs": [],
   "source": [
    "def calcuate_statistics(numbers):\n",
    "    suma = 0\n",
    "    promedio = 0\n",
    "    maximo = 0\n",
    "    minimo = 0\n",
    "\n",
    "    for i in range(len(numbers)):\n",
    "        suma += numbers[i]\n",
    "\n",
    "    outliers = numbers\n",
    "    outliers.sort()\n",
    "    maximo = outliers[-1]\n",
    "    minimo = outliers[0]\n",
    "\n",
    "    promedio = suma / len(numbers)\n",
    "    print(f\"Suma: {suma}, Promedio: {promedio}, Máximo: {maximo}, Mínimo: {minimo}\")\n",
    "    return suma, maximo, minimo, promedio\n"
   ]
  },
  {
   "cell_type": "code",
   "execution_count": 6,
   "metadata": {},
   "outputs": [
    {
     "name": "stdout",
     "output_type": "stream",
     "text": [
      "Suma: 1073, Promedio: 153.28571428571428, Máximo: 654, Mínimo: 1\n"
     ]
    },
    {
     "data": {
      "text/plain": [
       "(1073, 654, 1, 153.28571428571428)"
      ]
     },
     "execution_count": 6,
     "metadata": {},
     "output_type": "execute_result"
    }
   ],
   "source": [
    "# Tests\n",
    "calcuate_statistics([1,10,3,5,654,324,76])\n"
   ]
  },
  {
   "cell_type": "markdown",
   "metadata": {},
   "source": [
    "3. Análisis de Palabras en un Texto:\n"
   ]
  },
  {
   "cell_type": "code",
   "execution_count": 7,
   "metadata": {},
   "outputs": [],
   "source": [
    "def clean_text(dirty_text):\n",
    "    text = dirty_text.lower()\n",
    "    stuff_to_clean = [\"?\", \".\",\",\",\"(\",\")\",\"=\",\"!\",\"-\",\":\"]\n",
    "    for dirty_item in stuff_to_clean:\n",
    "        text = text.replace(dirty_item, \"\")\n",
    "    text = text.split()\n",
    "    return text"
   ]
  },
  {
   "cell_type": "code",
   "execution_count": 8,
   "metadata": {},
   "outputs": [],
   "source": [
    "def sort_dict(target_dict, sort_type):\n",
    "    sort_type = False if sort_type == \"asc\" else True\n",
    "    sorted_counter = {}\n",
    "    for key in sorted(target_dict, key=target_dict.get, reverse=sort_type):\n",
    "        sorted_counter[key] = target_dict[key]\n",
    "    return sorted_counter"
   ]
  },
  {
   "cell_type": "code",
   "execution_count": 9,
   "metadata": {},
   "outputs": [],
   "source": [
    "def rank_elements(given_dict, positions_amount=10):\n",
    "    top = {}\n",
    "    for i in range(positions_amount if len(given_dict) >= positions_amount else len(given_dict)):\n",
    "        top[max(given_dict, key=given_dict.get)] = given_dict[max(given_dict, key=given_dict.get)]\n",
    "        given_dict[max(given_dict, key=given_dict.get)] = 0\n",
    "    return top"
   ]
  },
  {
   "cell_type": "code",
   "execution_count": 10,
   "metadata": {},
   "outputs": [],
   "source": [
    "def word_count(text, sorted=True, sort_type = \"asc\", rank = 0, draw=False):\n",
    "    counter = {}\n",
    "    for word in clean_text(text):\n",
    "        if word in counter.keys():\n",
    "            counter[word] += 1\n",
    "        else:\n",
    "            counter[word] = 1\n",
    "\n",
    "    if draw:\n",
    "        data = {}\n",
    "        if rank > 0:\n",
    "            data = rank_elements(counter, rank)\n",
    "        else: \n",
    "            data = counter\n",
    "        plt.bar(data.keys(), data.values())\n",
    "        plt.xlabel('Words')\n",
    "        plt.ylabel('Values')\n",
    "        plt.title('Dictionary Values')\n",
    "        plt.xticks(rotation=45)\n",
    "        plt.show()\n",
    "    \n",
    "\n",
    "    if rank > 0:\n",
    "        return rank_elements(counter, rank)\n",
    "    \n",
    "    return sort_dict(counter, sort_type) if sorted else counter"
   ]
  },
  {
   "cell_type": "code",
   "execution_count": 13,
   "metadata": {},
   "outputs": [
    {
     "data": {
      "image/png": "[encoded data removed]",
      "text/plain": [
       "<Figure size 640x480 with 1 Axes>"
      ]
     },
     "metadata": {},
     "output_type": "display_data"
    }
   ],
   "source": [
    "with open(\"bee.txt\", 'r') as file:\n",
    "    content = file.read()\n",
    "    word_count(content, rank=20, draw=True)"
   ]
  },
  {
   "cell_type": "markdown",
   "metadata": {},
   "source": [
    "Luego, realizar una función que reciba la frecuencia de palabras calculada con\n",
    "word_count e imprima las 10 palabras que aparecen con mayor frecuencia, junto con la\n",
    "cantidad de veces que aparece."
   ]
  }
 ],
 "metadata": {
  "kernelspec": {
   "display_name": "Python 3",
   "language": "python",
   "name": "python3"
  },
  "language_info": {
   "codemirror_mode": {
    "name": "ipython",
    "version": 3
   },
   "file_extension": ".py",
   "mimetype": "text/x-python",
   "name": "python",
   "nbconvert_exporter": "python",
   "pygments_lexer": "ipython3",
   "version": "3.11.8"
  }
 },
 "nbformat": 4,
 "nbformat_minor": 2
}
