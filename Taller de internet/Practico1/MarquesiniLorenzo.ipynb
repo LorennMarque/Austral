{
 "cells": [
  {
   "cell_type": "markdown",
   "metadata": {},
   "source": [
    "## 1. Verificar si un Número es Primo:\n"
   ]
  },
  {
   "cell_type": "code",
   "execution_count": 12,
   "metadata": {},
   "outputs": [],
   "source": [
    "import math\n",
    "import matplotlib.pyplot as plt"
   ]
  },
  {
   "cell_type": "code",
   "execution_count": 13,
   "metadata": {},
   "outputs": [],
   "source": [
    "def is_prime_number(number):\n",
    "    if number > 1:  \n",
    "        if number == 2 or number == 3: \n",
    "            return True  # Si es 2 o 3, son primos\n",
    "        \n",
    "        # Si el número no es 2 o 3, procedemos a realizar la división por tentativa\n",
    "        for i in range(math.ceil(math.sqrt(number))):\n",
    "            if (number % (i+2) == 0):  \n",
    "                return False  # Si es divisible, entonces el número no es primo y devolvemos False\n",
    "            \n",
    "        return True  # El número no es divisible por ningún número en el rango, entonces es primo\n",
    "    else:\n",
    "        return False  # Si el número es menor o igual que 1, no es primo\n",
    "    "
   ]
  },
  {
   "cell_type": "markdown",
   "metadata": {},
   "source": [
    "### Pruebas"
   ]
  },
  {
   "cell_type": "code",
   "execution_count": 14,
   "metadata": {},
   "outputs": [
    {
     "name": "stdout",
     "output_type": "stream",
     "text": [
      "0 no ❌ es un número primo\n",
      "1 no ❌ es un número primo\n",
      "2 si ✅ es un número primo\n",
      "3 si ✅ es un número primo\n",
      "4 no ❌ es un número primo\n",
      "5 si ✅ es un número primo\n",
      "6 no ❌ es un número primo\n",
      "7 si ✅ es un número primo\n",
      "8 no ❌ es un número primo\n",
      "9 no ❌ es un número primo\n",
      "10 no ❌ es un número primo\n",
      "11 si ✅ es un número primo\n",
      "12 no ❌ es un número primo\n",
      "13 si ✅ es un número primo\n",
      "14 no ❌ es un número primo\n",
      "15 no ❌ es un número primo\n",
      "16 no ❌ es un número primo\n",
      "17 si ✅ es un número primo\n",
      "18 no ❌ es un número primo\n",
      "19 si ✅ es un número primo\n",
      "20 no ❌ es un número primo\n",
      "21 no ❌ es un número primo\n",
      "22 no ❌ es un número primo\n",
      "23 si ✅ es un número primo\n",
      "24 no ❌ es un número primo\n",
      "25 no ❌ es un número primo\n",
      "26 no ❌ es un número primo\n",
      "27 no ❌ es un número primo\n",
      "28 no ❌ es un número primo\n",
      "29 si ✅ es un número primo\n",
      "30 no ❌ es un número primo\n",
      "31 si ✅ es un número primo\n",
      "32 no ❌ es un número primo\n",
      "33 no ❌ es un número primo\n",
      "34 no ❌ es un número primo\n",
      "35 no ❌ es un número primo\n",
      "36 no ❌ es un número primo\n",
      "37 si ✅ es un número primo\n",
      "38 no ❌ es un número primo\n",
      "39 no ❌ es un número primo\n",
      "40 no ❌ es un número primo\n",
      "41 si ✅ es un número primo\n",
      "42 no ❌ es un número primo\n",
      "43 si ✅ es un número primo\n",
      "44 no ❌ es un número primo\n",
      "45 no ❌ es un número primo\n",
      "46 no ❌ es un número primo\n",
      "47 si ✅ es un número primo\n",
      "48 no ❌ es un número primo\n",
      "49 no ❌ es un número primo\n",
      "50 no ❌ es un número primo\n",
      "51 no ❌ es un número primo\n",
      "52 no ❌ es un número primo\n",
      "53 si ✅ es un número primo\n",
      "54 no ❌ es un número primo\n",
      "55 no ❌ es un número primo\n",
      "56 no ❌ es un número primo\n",
      "57 no ❌ es un número primo\n",
      "58 no ❌ es un número primo\n",
      "59 si ✅ es un número primo\n",
      "60 no ❌ es un número primo\n",
      "61 si ✅ es un número primo\n",
      "62 no ❌ es un número primo\n",
      "63 no ❌ es un número primo\n",
      "64 no ❌ es un número primo\n",
      "65 no ❌ es un número primo\n",
      "66 no ❌ es un número primo\n",
      "67 si ✅ es un número primo\n",
      "68 no ❌ es un número primo\n",
      "69 no ❌ es un número primo\n",
      "70 no ❌ es un número primo\n",
      "71 si ✅ es un número primo\n",
      "72 no ❌ es un número primo\n",
      "73 si ✅ es un número primo\n",
      "74 no ❌ es un número primo\n",
      "75 no ❌ es un número primo\n",
      "76 no ❌ es un número primo\n",
      "77 no ❌ es un número primo\n",
      "78 no ❌ es un número primo\n",
      "79 si ✅ es un número primo\n",
      "80 no ❌ es un número primo\n",
      "81 no ❌ es un número primo\n",
      "82 no ❌ es un número primo\n",
      "83 si ✅ es un número primo\n",
      "84 no ❌ es un número primo\n",
      "85 no ❌ es un número primo\n",
      "86 no ❌ es un número primo\n",
      "87 no ❌ es un número primo\n",
      "88 no ❌ es un número primo\n",
      "89 si ✅ es un número primo\n",
      "90 no ❌ es un número primo\n",
      "91 no ❌ es un número primo\n",
      "92 no ❌ es un número primo\n",
      "93 no ❌ es un número primo\n",
      "94 no ❌ es un número primo\n",
      "95 no ❌ es un número primo\n",
      "96 no ❌ es un número primo\n",
      "97 si ✅ es un número primo\n",
      "98 no ❌ es un número primo\n",
      "99 no ❌ es un número primo\n"
     ]
    }
   ],
   "source": [
    "# Tests\n",
    "for i in range (100):\n",
    "    state = \"si ✅\" if is_prime_number(i) else \"no ❌\"\n",
    "    print(f\"{i} {state} es un número primo\")"
   ]
  },
  {
   "cell_type": "markdown",
   "metadata": {},
   "source": [
    "Luego, utilizar la función is_prime_number para hacer un print de:\n",
    "print(f\"{numero} es un número primo.\") en caso de que el número sea primo, o\n",
    "print(f\"{numero} no es un número primo.\") es caso contrario\n"
   ]
  },
  {
   "cell_type": "markdown",
   "metadata": {},
   "source": [
    "## 2. Cálculo de Estadísticas Básicas:\n",
    "Escribir una función que tome una lista de números como entrada y calcule la suma, el\n",
    "promedio, el valor máximo y el valor mínimo de esos números.\n",
    "Puedes solicitar al usuario que ingrese los números o puedes generar una lista aleatoria.\n",
    "Los resultados deben imprimirse por consola."
   ]
  },
  {
   "cell_type": "code",
   "execution_count": 15,
   "metadata": {},
   "outputs": [],
   "source": [
    "def calcuate_statistics(numbers):\n",
    "    # Init variables\n",
    "    suma = 0 \n",
    "    promedio = 0\n",
    "    maximo = 0\n",
    "    minimo = 0\n",
    "\n",
    "    #sumar cada numero dentro de la lista usando su index\n",
    "    for i in range(len(numbers)):\n",
    "        suma += numbers[i]\n",
    "\n",
    "    outliers = numbers\n",
    "    outliers.sort()\n",
    "    maximo = outliers[-1] #index para tomar el valor más alto...\n",
    "    minimo = outliers[0] # y el más bajo...\n",
    "\n",
    "    promedio = suma / len(numbers)\n",
    "    print(f\"Suma: {suma}, Promedio: {promedio}, Máximo: {maximo}, Mínimo: {minimo}\")\n",
    "    return suma, maximo, minimo, promedio\n"
   ]
  },
  {
   "cell_type": "code",
   "execution_count": 16,
   "metadata": {},
   "outputs": [
    {
     "name": "stdout",
     "output_type": "stream",
     "text": [
      "Suma: 1073, Promedio: 153.28571428571428, Máximo: 654, Mínimo: 1\n"
     ]
    },
    {
     "data": {
      "text/plain": [
       "(1073, 654, 1, 153.28571428571428)"
      ]
     },
     "execution_count": 16,
     "metadata": {},
     "output_type": "execute_result"
    }
   ],
   "source": [
    "# Tests\n",
    "calcuate_statistics([1,10,3,5,654,324,76])\n"
   ]
  },
  {
   "cell_type": "markdown",
   "metadata": {},
   "source": [
    "## 3. Análisis de Palabras en un Texto:\n",
    "Escribe una función que tome una cadena de texto como entrada y cuente la frecuencia de\n",
    "cada palabra en el texto. El conteo de palabras debe devolverse usando return."
   ]
  },
  {
   "cell_type": "code",
   "execution_count": 17,
   "metadata": {},
   "outputs": [],
   "source": [
    "def clean_text(dirty_text):\n",
    "    text = dirty_text.lower() # estandarizar texto\n",
    "    stuff_to_clean = [\"?\", \".\",\",\",\"(\",\")\",\"=\",\"!\",\"-\",\":\"] # Caracteres no deseados\n",
    "    for dirty_item in stuff_to_clean:  \n",
    "        text = text.replace(dirty_item, \"\") # Eliminamos cada elemento no deseado del texto brindado\n",
    "    text = text.split() # Transformamos el texto en una lista\n",
    "    return text"
   ]
  },
  {
   "cell_type": "code",
   "execution_count": 18,
   "metadata": {},
   "outputs": [],
   "source": [
    "def sort_dict(target_dict, sort_type):\n",
    "    sort_type = False if sort_type == \"asc\" else True # Traducir la str a un booleano. mala práctica.\n",
    "    sorted_counter = {}\n",
    "    for key in sorted(target_dict, key=target_dict.get, reverse=sort_type): # Segun el sort_type habilitamos o no el parámetro reverse\n",
    "        sorted_counter[key] = target_dict[key] # Agregamos al nuevo diccionario\n",
    "    return sorted_counter # Devolvemos el diccionario creado."
   ]
  },
  {
   "cell_type": "code",
   "execution_count": 19,
   "metadata": {},
   "outputs": [],
   "source": [
    "def rank_elements(given_dict, positions_amount=10):\n",
    "    top = {}\n",
    "    # 1. Revisar que la cantidad de palabras deseadas sea igual o menor a la cantidad de palabras disponibles\n",
    "    #El siguiente loop sigue los pasos:\n",
    "        # 2. Busca el key value mas grande \n",
    "        # 3. Lo agrega al nuevo dict\n",
    "        # 4. Elimina el valor del diccionario brindado.\n",
    "    for i in range(positions_amount if len(given_dict) >= positions_amount else len(given_dict)):\n",
    "        top[max(given_dict, key=given_dict.get)] = given_dict[max(given_dict, key=given_dict.get)]\n",
    "        given_dict[max(given_dict, key=given_dict.get)] = 0\n",
    "    return top "
   ]
  },
  {
   "cell_type": "markdown",
   "metadata": {},
   "source": [
    "#### Función principal\n",
    "<table>\n",
    "    <tr>\n",
    "        <th>Parámetro</th>\n",
    "        <th>Descripción</th>\n",
    "        <th>Tipo</th>\n",
    "    </tr>\n",
    "    <tr>\n",
    "        <td>text</td>\n",
    "        <td>cadena de caracteres objetivo para analizar</td>\n",
    "        <td>String</td>\n",
    "    </tr>\n",
    "        <tr>\n",
    "        <td>sorted</td>\n",
    "        <td>Devolver los datos de forma ordenada (asc por defecto)</td>\n",
    "        <td>Bool</td>\n",
    "    </tr>\n",
    "        <tr>\n",
    "        <td>sort_type</td>\n",
    "        <td>Admite \"asc\" y \"desc\". Sirve para re-ordenar los resultados de forma scendente o descentente</td>\n",
    "        <td>String</td>\n",
    "    </tr>\n",
    "        <tr>\n",
    "        <td>rank</td>\n",
    "        <td>Al indicar un número positivo devuelve las n palabras más repetidas. (0 implica todas) </td>\n",
    "        <td>Int</td>\n",
    "    </tr>\n",
    "        <tr>\n",
    "        <td>draw</td>\n",
    "        <td>Devuelve un gráfico de barras horizontal con las palabras en relación a sus repeticiones. Por defecto \"False\"</td>\n",
    "        <td>Bool</td>\n",
    "    </tr>\n",
    "</table>"
   ]
  },
  {
   "cell_type": "code",
   "execution_count": 30,
   "metadata": {},
   "outputs": [],
   "source": [
    "def word_count(text, sorted=True, sort_type = \"asc\", rank = 0, draw=False):\n",
    "    \n",
    "    counter = {}\n",
    "    for word in clean_text(text): # El texto se transforma a min´úsculas y si le eliminan caracteres no deseados\n",
    "        if word in counter.keys(): # En caso de que la palabra ya se encuentre en el contador...\n",
    "            counter[word] += 1 # Sumar 1 repetición.\n",
    "        else:\n",
    "            counter[word] = 1 # En caso contrario se agrega la palabra.\n",
    "\n",
    "    if draw: # en caso de que el parámetro lo indique se ordena y gráfican los datos.\n",
    "        data = {}\n",
    "        if rank > 0:\n",
    "            data = rank_elements(counter, rank)\n",
    "        else: \n",
    "            data = counter\n",
    "        plt.bar(data.keys(), data.values())\n",
    "        plt.xlabel('Palabras')\n",
    "        plt.ylabel('Cantidad de repeticiones')\n",
    "        plt.title('Palabras x Repeticiones')\n",
    "        plt.xticks(rotation=45)\n",
    "        plt.show()\n",
    "    \n",
    "\n",
    "    if rank > 0: # en caso de indicar cantidad de palabras deseadas se llama a la funcion Rank\n",
    "        return rank_elements(counter, rank) # Enviamos rank para determinar la cantidad que buscamos.\n",
    "    \n",
    "    return sort_dict(counter, sort_type) if sorted else counter # Devolver los datos de forma ordenada o desordenada basada en los parámetros"
   ]
  },
  {
   "cell_type": "markdown",
   "metadata": {},
   "source": [
    "### Tests para el ejercicio 3"
   ]
  },
  {
   "cell_type": "code",
   "execution_count": 28,
   "metadata": {},
   "outputs": [
    {
     "name": "stdout",
     "output_type": "stream",
     "text": [
      "{'scriptscom': 1, 'jerry': 1, 'seinfeld': 1, 'screen': 1, 'text;': 1, 'according': 1, 'known': 1, 'laws': 1, 'aviation': 1, 'care': 1, 'impossible': 1, 'ooh': 1, 'shake': 1, 'breakfast': 1, 'happening': 1, 'sharp': 1, 'father': 1, 'paid': 1, 'graduate': 1, \"b's\": 1, 'rubs': 1, 'ma': 1, 'ow': 1, 'wave': 1, '118000': 1, 'hiveand': 1, 'waved': 1, 'reading': 1, 'newspaper': 1, 'gel': 1, 'graduation': 1, 'grade': 1, 'awkward': 1, 'college': 1, 'hitchhiked': 1, 'jogging': 1, 'growing': 1, 'mustache': 1, 'frankie': 1, 'squirrel': 1, 'such': 1, 'hothead': 1, 'barrel': 1, 'roll': 1, 'loopshaped': 1, 'bridge': 1, 'highway': 1, 'incorporating': 1, 'amusement': 1, 'regular': 1, 'vacations': 1, 'parallel': 1, 'parks': 1, 'pomp': 1, 'circumstances': 1, 'hats': 1, 'beemen': 1, 'amen': 1, 'hallelujah': 1, 'spasm': 1, 'faculty': 1, 'distinguished': 1, 'oity': 1, 'class': 1, '9': 1, 'concludes': 1, 'ceremonies': 1, 'career': 1, 'industries': 1, 'orientation': 1, 'antennas': 1, 'tram': 1, \"it'll\": 1, 'division': 1, 'honesco': 1, 'group': 1, 'either': 1, 'complicated': 1, 'valiant': 1, 'topsecret': 1, 'formula': 1, 'colorcorrected': 1, 'scentadjusted': 1, 'bubblecontoured': 1, 'soothing': 1, 'syrup': 1, 'distinctive': 1, 'glow': 1, 'collecting': 1, 'throws': 1, 'caught': 1, 'strive': 1, 'improve': 1, 'aspect': 1, 'existence': 1, 'stresstesting': 1, 'technology': 1, 'smashed': 1, 'flyswatters': 1, 'newspapers': 1, 'thumbs': 1, 'groan': 1, 'latest': 1, 'advancement': 1, 'turning': 1, 'wheel': 1, 'pegs': 1, 'fingershaped': 1, 'strand': 1, 'pour': 1, 'intrigued': 1, 'choose': 1, 'claps': 1, 'death': 1, '\"what\\'s': 1, 'difference\"': 1, 'forever': 1, 'relieved': 1, 'question': 1, 'perfectly': 1, 'functioning': 1, 'society': 1, 'cars': 1, 'speeding': 1, 'unison': 1, 'clear': 1, 'gate': 1, 'force': 1, 'approach': 1, 'circle': 1, 'landing': 1, 'hook': 1, 'backpacks': 1, 'pump': 1, 'monsters': 1, 'punching': 1, 'joy': 1, \"day's\": 1, 'planned': 1, 'bred': 1, 'floated': 1, 'lifetime': 1, 'symbol': 1, 'perhaps': 1, 'unless': 1, '2': 1, 'harrys': 1, 'dangerous': 1, 'pinned': 1, 'mushroom': 1, 'paw': 1, 'throat': 1, 'slapping': 1, 'represent': 1, 'scenario': 1, 'knock': 1, 'alert': 1, 'authorities': 1, 'autograph': 1, 'pretend': 1, 'comrades': 1, 'hitting': 1, 'huh': 1, 'puddle': 1, 'jgate': 1, 'buzzyboy': 1, 'might': 1, 'depends': 1, 'hivecity': 1, 'balcony': 1, 'surprised': 1, 'interested': 1, 'choices': 1, 'bored': 1, 'stir': 1, 'rhythm': 1, \"son's\": 1, 'till': 1, 'ant': 1, 'tattoo': 1, 'continue': 1, 'ramble': 1, 'celebrate': 1, 'pierce': 1, 'thorax': 1, 'shave': 1, 'shack': 1, 'grasshopper': 1, 'gold': 1, 'tooth': 1, '\"dawg\"': 1, 'starting': 1, \"today's\": 1, 'gone': 1, 'counting': 1, 'removal': 1, \"them's\": 1, 'stellar': 1, 'newbies': 1, 'changing': 1, 'panels': 1, 'contain': 1, 'unavailable': 1, 'confusing': 1, 'restroom': 1, \"attendant's\": 1, 'fingerhat': 1, 'wax': 1, \"monkey's\": 1, 'opened': 1, 'deady': 1, 'deadified': 1, 'remembers': 1, 'offered': 1, 'pourer': 1, 'humming': 1, 'inspector': 1, 'seven': 1, 'coordinator': 1, 'stripe': 1, 'supervisor': 1, 'mite': 1, 'wrangler': 1, 'quadrant': 1, 'nine': 1, \"anyone's\": 1, 'brave': 1, 'korean': 1, 'deli': 1, '83rd': 1, \"deck's\": 1, 'restricted': 1, 'clipboard': 1, 'initial': 1, 'advisory': 1, 'brooms': 1, 'hockey': 1, 'dogs': 1, 'birds': 1, 'bats': 1, 'reports': 1, 'root': 1, 'beer': 1, 'poured': 1, \"murphy's\": 1, 'babbling': 1, 'cicada': 1, 'awful': 1, 'megaphone': 1, 'reminder': 1, 'rookies': 1, 'launch': 1, 'positions': 1, 'barryyou': 1, 'shot': 1, \"jock's\": 1, 'shorts': 1, 'pound': 1, 'petunias': 1, 'stemsuckers': 1, 'tech': 1, 'similar': 1, 'leader': 1, 'roger': 1, 'bringing': 1, 'shooting': 1, 'tubes': 1, 'collects': 1, 'pouch': 1, 'collector': 1, 'sprinkles': 1, 'sprinkle': 1, 'dash': 1, 'pinch': 1, 'bright': 1, 'daisies': 1, 'reporting': 1, '\"flowers\"': 1, 'distance': 1, 'coolest': 1, 'loving': 1, 'color': 1, 'smells': 1, 'fuzzy': 1, 'chemicaly': 1, 'lying': 1, 'lord': 1, 'candybrain': 1, 'upwards': 1, 'bouncing': 1, 'knowing': 1, \"mama's\": 1, 'forth': 1, 'position': 1, 'rookie': 1, 'missile': 1, 'match': 1, 'packing': 1, 'city': 1, 'yowser': 1, 'bounces': 1, 'town': 1, 'engine': 1, 'frozen': 1, 'ew': 1, 'gross': 1, 'waving': 1, 'smiles': 1, 'freezes': 1, 'blinked': 1, 'whips': 1, 'beespray': 1, 'granny': 1, 'above': 1, 'safe': 1, 'tension': 1, 'level': 1, 'unbelievable': 1, 'gathering': 1, 'direction': 1, 'damaged': 1, 'spirals': 1, 'downwards': 1, 'ww2': 1, 'effects': 1, 'played': 1, 'crashlands': 1, 'foldout': 1, 'trapping': 1, 'drapes': 1, 'taps': 1, 'diabolical': 1, 'fantastic': 1, 'topten': 1, 'favorite': 1, 'movies': 1, 'star': 1, 'wars': 1, 'guns': 1, '\"pew': 1, 'pew': 1, 'pew\"': 1, 'minds': 1, 'flabbergasted': 1, 'light': 1, 'ceiling': 1, '75': 1, 'predicted': 1, 'global': 1, 'warming': 1, 'hotter': 1, 'dips': 1, 'scoops': 1, 'saying': 1, 'capable': 1, 'carry': 1, 'amazement': 1, 'lets': 1, 'puff': 1, 'knocking': 1, 'carob': 1, 'chips': 1, 'calories': 1, 'kitchen': 1, 'disguises': 1, 'character': 1, 'pose': 1, 'wiggles': 1, 'eyebrows': 1, '\"you': 1, 'jazz\"': 1, 'fool': 1, 'gasps': 1, 'fright': 1, 'counter': 1, 'disconcerting': 1, 'surprise': 1, 'raised': 1, 'stabs': 1, 'whether': 1, 'weird': 1, 'grateful': 1, 'talkingthing': 1, '\"mama': 1, 'dada': 1, 'laugh': 1, 'cry': 1, 'minutes': 1, 'impose': 1, 'lose': 1, 'micrograms': 1, 'stripes': 1, 'fashion': 1, 'drinking': 1, 'tie': 1, 'cab': 1, 'madison': 1, 'steps': 1, 'church': 1, 'wedding': 1, 'says': 1, '\"watermelon': 1, 'guatemalan': 1, 'marry': 1, 'watermelon\"': 1, 'stands': 1, 'sugar': 1, 'cube': 1, 'floating': 1, 'paddles': 1, 'gondola': 1, 'doctor': 1, 'interest': 1, 'elected': 1, 'campaign': 1, 'slogan': 1, 'tree': 1, 'sheep': 1, 'meadow': 1, 'turtle': 1, 'pond': 1, 'toe': 1, 'ring': 1, 'toes': 1, 'knee': 1, 'installing': 1, 'perspective': 1, 'finish': 1, 'appears': 1, 'screwing': 1, 'sparks': 1, 'ladder': 1, 'scientists': 1, 'testing': 1, 'parachute': 1, 'tunnel': 1, 'possibly': 1, 'facethe': 1, 'scariest': 1, 'happiest': 1, 'poodle': 1, '\"experience\"': 1, 'spider': 1, 'attracted': 1, 'spiders': 1, 'else': 1, 'hottest': 1, 'eight': 1, 'break': 1, \"name's\": 1, 'washers': 1, 'm80s': 1, 'oneeighth': 1, 'dynamite': 1, 'understands': 1, 'gives': 1, 'eats': 1, \"stingin'\": 1, 'stripey': 1, 'cinnabon': 1, 'bread': 1, 'cinnamon': 1, 'forces': 1, 'rambling': 1, 'cinnabons': 1, 'deny': 1, 'sarcastic': 1, 'decisions': 1, 'barely': 1, \"father's\": 1, 'sinking': 1, 'picnic': 1, 'clinks': 1, 'vanessas': 1, 'killing': 1, 'gasp': 1, 'burst': 1, 'ana': 1, 'irplane': 1, 'copies': 1, 'watches': 1, 'draws': 1, 'pink': 1, 'looptheloop': 1, 'crashes': 1, 'mountain': 1, 'destroyed': 1, 'rocks': 1, 'fills': 1, 'wakes': 1, 'discovering': 1, 'respond': 1, 'meeting': 1, 'shakes': 1, 'closing': 1, \"florist's\": 1, 'dream': 1, 'surrounded': 1, 'crowds': 1, 'cheering': 1, 'compete': 1, 'athletic': 1, 'events': 1, 'exhausting': 1, 'faster': 1, 'tivo': 1, 'hivo': 1, 'avoids': 1, 'passerby': 1, 'dumb': 1, 'jerks': 1, 'fatal': 1, 'temper': 1, 'write': 1, 'angry': 1, 'letter': 1, 'emotion': 1, 'jealousy': 1, 'lust': 1, 'employeehector': 1, 'thinks': 1, 'saving': 1, 'goodness': 1, 'bothering': 1, 'covering': 1, 'pic': 1, \"'n'\": 1, 'save': 1, 'circular': 1, '10': 1, 'seventyfive': 1, 'limit': 1, 'science': 1, 'bet': 1, 'mighty': 1, 'hercules': 1, 'brands': 1, 'cute': 1, 'blossom': 1, 'private': 1, 'select': 1, 'disgust': 1, 'actor': 1, 'organic': 1, 'ourganic': 1, 'schools': 1, 'hospitals': 1, 'paints': 1, 'soldier': 1, 'sneaks': 1, 'section': 1, 'including': 1, 'loading': 1, 'boxes': 1, 'supermarket': 1, 'employee': 1, 'peak': 1, 'corner': 1, 'whispering': 1, 'sense': 1, 'pretends': 1, 'speaking': 1, 'loudly': 1, 'busted': 1, 'supplier': 1, 'swordfights': 1, 'crossed': 1, 'lunch': 1, 'iguana': 1, 'ignacio': 1, 'hectors': 1, 'surrenders': 1, 'chases': 1, \"bicyclists'\": 1, 'backpack': 1, 'bicyclist': 1, 'person': 1, 'splattered': 1, 'faces': 1, 'nowhere': 1, 'hears': 1, 'sudden': 1, 'whisper': 1, 'wipe': 1, 'moves': 1, 'alaska': 1, 'tacoma': 1, 'drivers': 1, 'notice': 1, 'activate': 1, 'sliding': 1, 'wiping': 1, 'wipes': 1, 'doggone': 1, 'clean': 1, 'bangs': 1, 'npr': 1, 'washington': 1, 'kasell': 1, 'washed': 1, 'wipr': 1, 'fluid': 1, 'pause': 1, 'lower': 1, 'low': 1, 'forced': 1, 'whassup': 1, 'deep': 1, 'conversation': 1, 'while': 1, 'far': 1, 'assume': 1, 'wherever': 1, 'jammed': 1, 'meet': 1, 'trade': 1, 'moth': 1, 'dragonfly': 1, 'donation': 1, \"mooseblood's\": 1, \"mosquito's\": 1, 'view': 1, 'camp': 1, 'slap': 1, 'label': 1, 'pure': 1, 'profit': 1, 'brain': 1, 'pinheads': 1, 'thomas': 1, '3000': 1, 'ninety': 1, 'puffs': 1, 'semiautomatic': 1, 'nicotine': 1, 'tar': 1, 'breaths': 1, '\"they': 1, 'money\"': 1, 'cheap': 1, 'miniature': 1, 'fainting': 1, 'passing': 1, 'helps': 1, 'coughing': 1, 'walls': 1, 'appartment': 1, 'empty': 1, 'photo': 1, '\"queen\"': 1, 'drag': 1, 'discovers': 1, 'structures': 1, 'housing': 1, 'thousands': 1, 'evil': 1, 'depictions': 1, 'brazenly': 1, 'scale': 1, 'intend': 1, 'showing': 1, 'rumor': 1, 'rumors': 1, 'conspiracy': 1, 'theory': 1, 'doctored': 1, 'photos': 1, 'mixed': 1, 'girlfriend': 1, 'dated': 1, 'kept': 1, 'works': 1, 'harder': 1, 'overworked': 1, 'lip': 1, 'balm': 1, 'whatsoever': 1, 'true': 1, 'killer': 1, 'fullhour': 1, 'action': 1, 'source': 1, 'protestor': 1, 'beards': 1, 'anchor': 1, 'larvi': 1, 'evening': 1, 'tricounty': 1, 'intends': 1, 'packaging': 1, 'profiting': 1, 'illegally': 1, 'former': 1, 'queens': 1, 'studio': 1, 'book': 1, 'classy': 1, 'version': 1, '\"i\\'m': 1, 'this\"': 1, 'columbus': 1, 'gandhi': 1, 'bejesus': 1, 'stickball': 1, 'stores': 1, 'supporting': 1, 'century': 1, 'suspenders': 1, 'colored': 1, 'dots': 1, 'glasses': 1, 'quotes': 1, 'though': 1, \"'em\": 1, 'hairy': 1, 'offscreen': 1, 'pointy': 1, 'squinty': 1, 'jewish': 1, 'enter': 1, 'enters': 1, 'arguing': 1, 'weakness': 1, '81': 1, \"backhand's\": 1, 'advantage': 1, 'actual': 1, 'recalling': 1, '\"winter': 1, 'boots\"': 1, 'incident': 1, 'earlier': 1, 'timberland': 1, 'vibram': 1, 'sole': 1, 'busy': 1, 'byebye': 1, 'difficult': 1, 'workplace': 1, 'mess': 1, 'poor': 1, 'sugars': 1, 'competition': 1, 'qualities': 1, 'giving': 1, 'bouquets': 1, 'psychotic': 1, 'bent': 1, 'stingers': 1, 'pointless': 1, 'daffodil': 1, \"lawsuit's\": 1, '\"honey': 1, 'home\"': 1, 'paying': 1, 'royalty': 1, 'incredible': 1, 'downtown': 1, 'manhattan': 1, 'anxiously': 1, 'waits': 1, 'ourselves': 1, 'honeybee': 1, 'billiondollar': 1, 'multinational': 1, 'barricade': 1, 'limousine': 1, 'manlayton': 1, 'owner': 1, 'chill': 1, 'honorable': 1, 'presiding': 1, '4475': 1, 'superior': 1, 'v': 1, 'session': 1, 'collectively': 1, 'privilege': 1, 'proceed': 1, 'bumblbeton': 1, 'simple': 1, 'born': 1, 'farm': 1, 'believed': 1, \"man's\": 1, 'divine': 1, 'benefit': 1, 'bounty': 1, 'god': 1, 'lived': 1, 'topsyturvy': 1, 'imagines': 1, 'negotiate': 1, 'silkworm': 1, 'elastic': 1, 'britches': 1, 'holographic': 1, 'motionpicturecapture': 1, 'hollywood': 1, 'wizardry': 1, 'laser': 1, 'beams': 1, 'robotics': 1, 'ventriloquism': 1, 'cloning': 1, 'steroids': 1, 'trickery': 1, 'ordinary': 1, 'invented': 1, 'unfortunately': 1, 'hoping': 1, \"he'd\": 1, 'witness': 1, 'company': 1, 'suppose': 1, 'honeyburton': 1, 'honron': 1, 'provide': 1, 'disturbing': 1, 'term': 1, 'imagine': 1, 'employ': 1, 'beefreeers': 1, 'quietly': 1, 'appropriate': 1, 'image': 1, 'jar': 1, 'lovable': 1, 'creatures': 1, 'yogi': 1, 'fozzie': 1, 'buildabear': 1, 'hedge': 1, 'barges': 1, 'hind': 1, 'claws': 1, 'held': 1, 'chain': 1, 'crashing': 1, 'biting': 1, 'couch': 1, 'spitting': 1, 'pillows': 1, 'intrigues': 1, 'band': 1, 'officer': 1, 'culture': 1, 'casually': 1, 'gordon': 1, 'm': 1, 'sumner': 1, 'idiots': 1, 'belated': 1, 'emmy': 1, 'spot': 1, 'er': 1, '2005': 1, 'devilishly': 1, 'handsome': 1, 'churning': 1, 'inner': 1, 'turmoil': 1, 'crime': 1, 'exploiting': 1, 'helpless': 1, 'rehearse': 1, 'lines': 1, 'goodfella': 1, 'badfella': 1, 'feature': 1, 'awfully': 1, 'pitch': 1, \"jury's\": 1, 'rightyou': 1, 'legally': 1, 'clinking': 1, 'flips': 1, 'charge': 1, 'battery': 1, 'player': 1, 'game': 1, 'myself': 1, \"ball's\": 1, 'calling': 1, 'agreed': 1, 'eating': 1, 'chopsticks': 1, '100': 1, 'percent': 1, 'employment': 1, 'borrow': 1, 'razor': 1, 'quickly': 1, 'rises': 1, 'hearing': 1, 'splashing': 1, 'wine': 1, 'featuring': 1, 'victories': 1, 'madder': 1, 'washing': 1, 'games': 1, 'rolling': 1, 'backing': 1, 'mamma': 1, 'mia': 1, 'ads': 1, 'van': 1, 'seem': 1, 'follows': 1, 'stinks': 1, 'enjoying': 1, 'lighter': 1, 'flames': 1, 'makeshift': 1, 'flamethrower': 1, 'misses': 1, 'burning': 1, 'torches': 1, 'footing': 1, 'bathtub': 1, 'falling': 1, 'objects': 1, '3': 1, 'revealing': 1, 'sides': 1, 'pile': 1, 'supplies': 1, 'pathetic': 1, 'lethal': 1, 'issues': 1, 'crash': 1, 'flush': 1, 'bluffing': 1, 'flushes': 1, 'surf': 1, 'flushing': 1, \"surf's\": 1, 'dude': 1, 'ewpoo': 1, 'gnarly': 1, 'dirty': 1, 'cowers': 1, 'covers': 1, 'kenneth': 1, 'leaning': 1, 'happens': 1, 'nicest': 1, 'bugging': 1, 'nerves': 1, 'fried': 1, 'riding': 1, 'emotional': 1, 'roller': 1, 'coaster': 1, 'goodbye': 1, 'huffs': 1, 'information': 1, 'prefer': 1, 'sugarfree': 1, 'sweeteners': 1, 'aftertaste': 1, 'barrier': 1, 'overcome': 1, 'considered': 1, 'best': 1, 'weave': 1, 'worry': 1, 'remind': 1, 'tweezers': 1, 'exactly': 1, 'relationship': 1, 'bedbug': 1, 'vibrating': 1, 'agitated': 1, 'documentary': 1, 'birth': 1, 'children': 1, 'illegitimate': 1, 'denouncing': 1, 'date': 1, 'objection': 1, 'raises': 1, 'object': 1, 'straight': 1, 'pincushion': 1, 'stings': 1, 'butt': 1, 'lordy': 1, 'coursing': 1, 'veins': 1, 'felled': 1, 'winged': 1, 'beast': 1, 'destruction': 1, 'treat': 1, 'equals': 1, 'savages': 1, \"stinging's\": 1, 'throwing': 1, 'angel': 1, 'mercy': 1, 'poison': 1, 'heaving': 1, 'buttocks': 1, 'bumlbeton': 1, 'honeybees': 1, 'versus': 1, 't': 1, 'hospital': 1, 'buddy': 1, 'pain': 1, 'alive': 1, 'plastic': 1, 'replaced': 1, 'cafeteria': 1, 'downstairs': 1, 'tuna': 1, 'sandwich': 1, 'flicks': 1, 'sighs': 1, 'explain': 1, 'adrenaline': 1, 'ecstasy': 1, 'trap': 1, 'flew': 1, 'roaches': 1, 'motels': 1, 'nurse': 1, 'cigarettes': 1, 'dressed': 1, 'somewhere': 1, 'assuming': 1, '29': 1, 'correctly': 1, 'tub': 1, 'boats': 1, 'stalling': 1, 'interesting': 1, 'trained': 1, 'haphazardly': 1, 'result': 1, 'story': 1, \"court's\": 1, 'allow': 1, 'absurd': 1, 'shenanigans': 1, 'presented': 1, 'compelling': 1, 'support': 1, 'charges': 1, 'clients': 1, 'legitimate': 1, 'businesses': 1, 'dismissal': 1, 'consider': 1, 'terrific': 1, 'proof': 1, \"judge's\": 1, 'podium': 1, 'harmless': 1, 'contraption': 1, 'alone': 1, 'accidentally': 1, 'faint': 1, 'cough': 1, 'dozens': 1, 'suffering': 1, 'asked': 1, '\"smoking': 1, 'non\"': 1, 'intended': 1, 'forcibly': 1, 'addicted': 1, 'manmade': 1, 'wooden': 1, 'slat': 1, 'slaves': 1, 'white': 1, 'owners': 1, 'african': 1, 'american': 1, 'awkwardly': 1, 'separates': 1, 'others': 1, 'favor': 1, 'won': 1, 'overjoyed': 1, 'belong': 1, 'unholy': 1, 'perversion': 1, 'balance': 1, 'regret': 1, 'asking': 1, 'questions': 1, '2#': 1, 'sweater': 1, 'ralph': 1, 'lauren': 1, 'pants': 1, 'paparazzi': 1, 'settlement': 1, 'shutdown': 1, '\"closed\"': 1, 'tape': 1, 'freeing': 1, 'crappy': 1, 'begin': 1, 'pushing': 1, 'carts': 1, 'glorification': 1, 'statue': 1, 'bearshaped': 1, 'container': 1, 'pulled': 1, 'filthy': 1, 'smelly': 1, 'badbreath': 1, 'stink': 1, 'aware': 1, 'woods': 1, 'sharing': 1, 'crosshairs': 1, 'rifle': 1, 'binoculars': 1, 'signal': 1, 'tranquilizer': 1, 'dart': 1, 'log': 1, 'tongue': 1, 'nausea': 1, 'few': 1, 'tolerate': 1, 'beenegative': 1, 'nicknames': 1, 'unnecessary': 1, 'inclusion': 1, 'bogus': 1, 'health': 1, 'products': 1, 'ladeeda': 1, 'teatime': 1, 'snack': 1, 'garnishments': 1, 'mixing': 1, 'tea': 1, 'breathe': 1, 'tap': 1, 'tons': 1, 'pumped': 1, 'overflows': 1, 'passed': 1, 'gallons': 1, 'stations': 1, 'key': 1, 'press': 1, 'cannonball': 1, 'short': 1, 'mission': 1, 'abort': 1, 'aborting': 1, 'detail': 1, 'returning': 1, 'base': 1, 'lapse': 1, 'relax': 1, 'street': 1, 'deserted': 1, 'celebrating': 1, 'sleeping': 1, 'liked': 1, 'greatest': 1, 'rooftop': 1, 'roof': 1, 'green': 1, 'colorful': 1, 'rather': 1, 'brown': 1, 'deadlike': 1, 'depressing': 1, 'staring': 1, 'specifically': 1, 'needing': 1, 'affect': 1, 'fruits': 1, 'vegetables': 1, 'sat': 1, 'produce': 1, 'affects': 1, 'animal': 1, 'kingdom': 1, 'south': 1, 'partly': 1, 'suicide': 1, 'pact': 1, 'kills': 1, 'final': 1, 'weekend': 1, 'wanna': 1, 'meant': 1, 'neither': 1, 'screeches': 1, 'mistake': 1, 'total': 1, 'disaster': 1, 'ruined': 1, 'planet': 1, 'remodeling': 1, 'greater': 1, 'previous': 1, 'combined': 1, 'repollination': 1, 'nation': 1, 'california': 1, 'floats': 1, 'cotton': 1, 'ftd': 1, 'badge': 1, 'official': 1, 'floral': 1, 'gift': 1, 'plan': 1, 'mattresses': 1, 'fairy': 1, 'tale': 1, 'sweetheart': 1, 'marshal': 1, 'fiasco': 1, \"baby'll\": 1, 'blend': 1, 'arousing': 1, 'suspicion': 1, 'stopping': 1, 'insect': 1, 'possession': 1, 'shoes': 1, 'plotting': 1, 'attention': 1, 'delay': 1, 'cut': 1, \"they'll\": 1, 'mall': 1, 'inflatable': 1, 'ear': 1, 'trimmer': 1, 'attendant': 1, 'unseen': 1, 'situation': 1, 'nonono': 1, 'handheld': 1, 'sucks': 1, 'attempt': 1, 'launches': 1, 'infalatable': 1, 'southern': 1, 'miss': 1, '24b': 1, 'hurry': 1, 'pilots': 1, 'dustbuster': 1, 'exploded': 1, 'bald': 1, 'ditchwater': 1, '356': 1, \"where's\": 1, 'onboard': 1, 'fact': 1, 'metal': 1, 'john': 1, 'travolta': 1, 'ominous': 1, 'looms': 1, 'latebreaking': 1, 'suspenseful': 1, 'developing': 1, 'fresh': 1, 'attempting': 1, 'incapacitated': 1, 'individuals': 1, 'controls': 1, 'familiar': 1, 'noaccount': 1, 'compadres': 1, 'damage': 1, 'technically': 1, '\"the': 1, 'surface': 1, 'mass': 1, 'sense\"': 1, 'mystery': 1, 'realized': 1, 'jello': 1, 'teaching': 1, 'pretending': 1, 'honk': 1, 'bolt': 1, 'along': 1, 'multiple': 1, 'flys': 1, 'concentrate': 1, 'panicky': 1, 'voice': 1, 'panicking': 1, 'occasion': 1, 'carrying': 1, 'tin': 1, 'blacktop': 1, 'cloudy': 1, 'strong': 1, '27millionyearold': 1, 'instinct': 1, 'operator': 1, 'tarmac': 1, 'lights': 1, 'organized': 1, 'easy': 1, 'spin': 1, \"plane's\": 1, 'painted': 1, 'nearby': 1, 'picture': 1, 'hovers': 1, 'tail': 1, 'rotate': 1, \"this's\": 1, 'kookookachoo': 1, 'insectlike': 1, 'pattern': 1, 'unrealistically': 1, 'spinning': 1, 'center': 1, 'scatter': 1, 'genius': 1, 'pollinate': 1, 'survive': 1, 'museum': 1, 'natural': 1, 'follow': 1, 'earned': 1, 'fit': 1, 'sleeves': 1, 'nectarcollecting': 1, 'nyc': 1, 'pollinates': 1, 'mom': 1, \"now's\": 1, 'factories': 1, 'running': 1, 'meanwhile': 1, 'customer': 1, 'beeapproved': 1, 'currently': 1, 'milk': 1, 'cream': 1, 'cheese': 1, 'nickel': 1, 'meat': 1, 'excuse': 1, 'associate': 1, 'bloodsucking': 1, 'parasite': 1, 'needed': 1, 'briefcase': 1, 'tulip': 1, 'vannie': 1, 'lifesaver': 1, 'scramble': 1, 'sidewalk': 1, '\"beeapproved': 1, 'kenny': 1, 'nightmare': 1, 'office': 1, 'recreates': 1, 'beginning': 1, 'fades': 1, 'credits': 1, '[after': 1, 'credits;': 1, 'characters': 1, 'credits]': 1, 'barrybarry': 1, 'major': 1, 'wrap': 1, 'virtually': 1, 'rehearsal': 1, 'buzzing': 2, 'uses': 2, 'stairs': 2, 'use': 2, 'money': 2, 'excited': 2, 'report': 2, 'card': 2, 'lint': 2, 'row': 2, 'continues': 2, 'school': 2, 'glad': 2, 'took': 2, 'different': 2, 'pass': 2, 'funeral': 2, 'die': 2, 'waste': 2, 'gotten': 2, 'graduating': 2, 'begins': 2, 'buses': 2, 'rise': 2, 'automatically': 2, 'loaded': 2, 'heads': 2, 'hexagon': 2, 'road': 2, \"bee's\": 2, 'massive': 2, 'honeymaking': 2, 'worked': 2, 'golden': 2, 'cousin': 2, 'constantly': 2, 'helmet': 2, 'passes': 2, 'lifts': 2, 'saves': 2, 'anyone': 2, 'most': 2, 'ones': 2, 'carefully': 2, 'difference': 2, '27': 2, 'years': 2, 'laughs': 2, 'blew': 2, 'decision': 2, 'earth': 2, 'give': 2, 'example': 2, 'audience': 2, 'royal': 2, 'trucks': 2, 'sky': 2, 'covered': 2, 'status': 2, 'waves': 2, 'distant': 2, 'fun': 2, 'gusty': 2, \"wasn't\": 2, 'sunflower': 2, 'patch': 2, 'six': 2, 'miles': 2, 'tomorrow': 2, '0900': 2, 'cuts': 2, 'yourself': 2, 'beautiful': 2, 'field': 2, 'balloon': 2, 'animals': 2, 'listening': 2, 'waiting': 2, 'stunt': 2, 'pouring': 2, 'yours': 2, \"what'd\": 2, 'crud': 2, 'reason': 2, 'died': 2, 'opening': 2, 'neck': 2, 'heating': 2, 'cooling': 2, 'yesterday': 2, 'cannot': 2, 'absolutely': 2, 'formation': 2, 'pack': 2, 'scared': 2, 'striped': 2, 'drain': 2, 'blue': 2, 'goggles': 2, 'shows': 2, 'visual': 2, '30': 2, 'degrees': 2, 'kick': 2, 'hightech': 2, 'magic': 2, 'cool': 2, 'copy': 2, 'seems': 2, 'moving': 2, 'balls': 2, 'grabby': 2, 'reaches': 2, 'motion': 2, 'coughs': 2, 'blows': 2, 'baby': 2, 'freeze': 2, 'hovering': 2, 'middle': 2, 'grandma': 2, 'climbing': 2, 'escapes': 2, 'mayday': 2, 'plummets': 2, 'plant': 2, 'folds': 2, 'smashes': 2, 'skills': 2, 'nah': 2, 'finger': 2, 'stops': 2, 'interview': 2, 'sun': 2, 'dip': 2, 'chip': 2, 'bowl': 2, 'drops': 2, 'fear': 2, 'freak': 2, 'winter': 2, 'smash': 2, 'protect': 2, 'mine': 2, 'statement': 2, \"ken's\": 2, 'stays': 2, 'shocked': 2, 'skill': 2, 'dishes': 2, 'strikes': 2, 'comes': 2, 'speak': 2, 'recall': 2, 'bed': 2, 'fork': 2, 'test': 2, 'learn': 2, 'honey\"': 2, 'deal': 2, 'hate': 2, 'ridiculous': 2, 'rum': 2, 'cake': 2, 'building': 2, 'runs': 2, 'said': 2, 'straw': 2, 'lost': 2, 'laughing': 2, 'scientist': 2, 'set': 2, 'dave': 2, 'chute': 2, 'slams': 2, 'pans': 2, \"how'd\": 2, 'normal': 2, 'met': 2, 'beeish': 2, 'wasp': 2, 'dating': 2, 'attack': 2, 'homes': 2, 'frosting': 2, 'quiet': 2, 'shoulders': 2, 'heart': 2, 'time;': 2, 'annoyed': 2, 'rolls': 2, 'ahead': 2, 'catch': 2, 'arms': 2, 'explodes': 2, 'year': 2, 'disease': 2, 'usually': 2, 'anger': 2, 'anybody': 2, 'creep': 2, 'sets': 2, 'felt': 2, 'pages': 2, 'italian': 2, 'vogue': 2, 'sale': 2, 'aisle': 2, 'storage': 2, 'almost': 2, 'thumbtack': 2, 'headed': 2, 'moose': 2, 'wipers': 2, 'uhoh': 2, 'wiper': 2, 'triple': 2, 'blade': 2, 'tiny': 2, 'blown': 2, 'luckily': 2, 'horn': 2, 'finds': 2, 'jars': 2, 'eye': 2, \"honey's\": 2, 'tight': 2, 'community': 2, 'likes': 2, 'least': 2, 'ambulance': 2, 'kidding': 2, \"y'all\": 2, 'pulling': 2, 'sort': 2, 'size': 2, 'pinhead': 2, 'twice': 2, 'knocks': 2, 'apartments': 2, 'moved': 2, \"women's\": 2, 'clothes': 2, 'beekeepers': 2, 'stolen': 2, 'wish': 2, 'whose': 2, 'cricket': 2, 'san': 2, 'antonio': 2, 'hurts': 2, 'matters': 2, 'five': 2, \"hive's\": 2, 'weather': 2, 'sports': 2, 'discussing': 2, 'tonight': 2, 'change': 2, 'candy': 2, 'common': 2, 'guest': 2, 'grandmother': 2, 'ten': 2, 'half': 2, \"'cause\": 2, 'holding': 2, 'many': 2, 'instead': 2, 'artificial': 2, 'without': 2, 'courthouse': 2, 'history': 2, 'companies': 2, 'needs': 2, 'representing': 2, 'closely': 2, 'several': 2, 'important': 2, 'dress': 2, 'vanderhayden': 2, 'find': 2, 'called': 2, 'police': 2, 'pranceabout': 2, 'stage': 2, 'win': 2, 'blow': 2, 'enjoy': 2, 'looses': 2, 'banging': 2, 'gavel': 2, 'magazines': 2, 'sits': 2, 'valuable': 2, 'hiding': 2, 'aiming': 2, 'cleaner': 2, 'between': 2, 'ideas': 2, 'layton': 2, 'losing': 2, 'ask': 2, 'overreacting': 2, 'venom': 2, 'celery': 2, 'stall': 2, 'paper': 2, 'courtroom': 2, 'taught': 2, 'evidence': 2, 'complete': 2, \"montgomery's\": 2, 'reporters': 2, 'business': 2, 'victory': 2, 'end': 2, 'machine': 2, 'winnie': 2, 'pooh': 2, 'piglet': 2, 'dramatically': 2, \"he'll\": 2, 'lady': 2, 'keys': 2, 'button': 2, 'shutting': 2, '\"phone\"': 2, 'grey': 2, 'dying': 2, 'brooch': 2, 'princess': 2, 'traffic': 2, 'airport': 2, 'remove': 2, 'intercom': 2, 'passengers': 2, 'copilot': 2, 'vacuum': 2, 'hals': 2, 'toupee': 2, 'attorney': 2, 'uncounscious': 2, 'accent': 2, 'unconscious': 2, 'jfk': 2, 'control': 2, 'tower': 2, 'pilot': 2, 'engines': 2, 'forget': 2, 'beepbeep': 2, 'autopilot': 2, 'safely': 2, 'runway': 2, 'pulsating': 2, 'aim': 2, 'reverse': 2, 'flowered': 2, 'beeflower': 2, 'already': 2, 'anywhere': 2, 'keychains': 2, 'keychain': 2, 'movie': 3, 'narrator': 3, 'able': 3, 'picking': 3, 'shirt': 3, 'hang': 3, 'flayman': 3, \"here's\": 3, 'proud': 3, 'perfect': 3, 'fuzz': 3, 'high': 3, 'artie': 3, 'students': 3, 'quite': 3, 'announcer': 3, 'welcome': 3, 'dean': 3, 'keep': 3, 'times': 3, 'wonder': 3, 'scary': 3, 'point': 3, 'bottle': 3, 'hot': 3, 'cousins': 3, 'boots': 3, 'each': 3, 'hangs': 3, 'millions': 3, 'million': 3, 'upset': 3, 'mind': 3, 'insane': 3, 'choice': 3, 'narrowly': 3, 'missing': 3, 'seen': 3, 'drive': 3, 'decide': 3, 'during': 3, 'jump': 3, 'stirring': 3, 'grab': 3, 'wants': 3, 'sometimes': 3, 'antennae': 3, 'desk': 3, 'left': 3, 'congratulations': 3, 'sign': 3, 'closed': 3, 'kid': 3, 'saw': 3, 'careful': 3, 'bears': 3, 'wind': 3, 'box': 3, 'kite': 3, 'sink': 3, 'fires': 3, 'power': 3, 'affirmative': 3, 'land': 3, 'near': 3, 'finally': 3, 'problem': 3, 'grabs': 3, 'hurt': 3, 'slow': 3, 'wrong': 3, 'conditioner': 3, 'nobody': 3, \"won't\": 3, 'seat': 3, 'clouds': 3, 'knocked': 3, 'sounds': 3, \"shouldn't\": 3, 'mouth': 3, 'backs': 3, 'allergic': 3, 'less': 3, 'value': 3, 'saved': 3, 'thanks': 3, 'whatever': 3, 'supposed': 3, 'dreaming': 3, 'tried': 3, \"we'd\": 3, 'completely': 3, 'joke': 3, 'area': 3, 'rings': 3, 'putting': 3, 'custodian': 3, \"ma'am\": 3, 'cups': 3, 'piece': 3, 'may': 3, 'pull': 3, 'wall': 3, 'moment': 3, 'tv': 3, \"wouldn't\": 3, 'tone': 3, 'changes': 3, 'yearning': 3, 'friend': 3, 'sunglasses': 3, 'sinks': 3, 'until': 3, 'airplane': 3, 'yell': 3, 'hope': 3, 'pasadena': 3, 'horrible': 3, 'across': 3, 'stealing': 3, 'taken': 3, 'bottom': 3, 'friends': 3, 'sword': 3, 'ours': 3, 'leaving': 3, 'hanging': 3, 'smack': 3, '1#': 3, 'fake': 3, 'worse': 3, 'sue': 3, 'race': 3, 'afraid': 3, 'trial': 3, 'show': 3, 'leans': 3, 'helping': 3, 'better': 3, 'hours': 3, 'lawyers': 3, 'matter': 3, 'boys': 3, 'york': 3, 'gentlemen': 3, 'woman': 3, 'nature': 3, 'roaring': 3, 'thrashing': 3, 'yet': 3, 'stung': 3, 'montage': 3, 'menacingly': 3, 'yells': 3, 'smell': 3, 'shower': 3, 'stares': 3, 'pointed': 3, 'legal': 3, 'boat': 3, 'highfive': 3, 'demand': 3, 'suits': 3, 'sniper': 3, 'production': 3, 'wilting': 3, 'fault': 3, 'experience': 3, 'cockpit': 3, 'afternoon': 3, 'crew': 3, 'fellow': 3, 'hover': 3, 'cow': 3, 'singer': 3, 'sound': 4, 'fat': 4, 'body': 4, 'hair': 4, 'told': 4, 'house': 4, 'drives': 4, 'days': 4, 'hi': 4, 'knows': 4, 'happy': 4, 'buzzwell': 4, 'machines': 4, 'sweet': 4, 'crowd': 4, 'standing': 4, 'catches': 4, 'means': 4, 'stay': 4, 'walking': 4, 'revealed': 4, 'freaks': 4, 'girls': 4, \"aren't\": 4, 'must': 4, 'against': 4, 'obviously': 4, 'tell': 4, 'stick': 4, 'bad': 4, 'stirrer': 4, \"one's\": 4, 'available': 4, 'board': 4, 'always': 4, \"we've\": 4, 'shoulder': 4, 'lucky': 4, 'watch': 4, 'law': 4, 'run': 4, 'heat': 4, 'suck': 4, 'pollination': 4, 'amazing': 4, '#3': 4, 'top': 4, 'playing': 4, 'past': 4, 'sprays': 4, 'everywhere': 4, 'storm': 4, 'understand': 4, 'kind': 4, 'stuff': 4, 'lightbulb': 4, 'having': 4, 'picks': 4, 'yogurt': 4, 'food': 4, 'fine': 4, 'actually': 4, 'floor': 4, 'crumb': 4, 'legs': 4, 'laying': 4, 'full': 4, 'working': 4, 'using': 4, 'yelling': 4, 'slowly': 4, 'parade': 4, 'float': 4, 'store': 4, 'throw': 4, 'knew': 4, 'late': 4, 'blood': 4, 'eyes': 4, 'carl': 4, 'screaming': 4, 'pictures': 4, 'camps': 4, 'uncle': 4, 'lives': 4, 'watching': 4, 'jeanette': 4, 'chung': 4, 'old': 4, 'industry': 4, 'real': 4, 'chapstick': 4, 'switches': 4, 'shut': 4, \"they've\": 4, 'pea': 4, 'lightning': 4, 'ground': 5, 'course': 5, 'anyway': 5, 'antenna': 5, 'son': 5, 'bye': 5, 'special': 5, 'driving': 5, 'everybody': 5, 'someone': 5, 'love': 5, 'under': 5, 'both': 5, 'honex': 5, 'jobs': 5, 'rest': 5, 'except': 5, 'species': 5, \"haven't\": 5, 'things': 5, 'line': 5, 'once': 5, 'slaps': 5, 'walk': 5, 'dad': 5, 'sticks': 5, 'parents': 5, 'step': 5, 'chance': 5, \"adam's\": 5, 'closes': 5, 'number': 5, 'before': 5, 'also': 5, 'feel': 5, 'bloome': 5, 'confused': 5, 'air': 5, 'spray': 5, 'apartment': 5, 'resume': 5, 'brochure': 5, 'keeps': 5, 'glass': 5, 'even': 5, 'towards': 5, 'remember': 5, 'himself': 5, 'notices': 5, 'living': 5, 'cup': 5, 'wanted': 5, 'florist': 5, 'queen': 5, 'holds': 5, 'camera': 5, 'nice': 5, 'raft': 5, 'pool': 5, 'longer': 5, 'tournament': 5, 'live': 5, 'magazine': 5, 'own': 5, 'place': 5, \"who's\": 5, 'onto': 5, 'driver': 5, 'radio': 5, 'team': 5, 'honor': 5, 'idea': 5, 'smoking': 5, 'taxi': 5, 'should': 6, 'its': 6, 'second': 6, 'phone': 6, \"barry's\": 6, 'pulls': 6, 'boy': 6, 'sit': 6, 'today': 6, 'men': 6, 'bus': 6, 'part': 6, 'when': 6, 'bring': 6, 'hat': 6, \"you'll\": 6, 'same': 6, \"didn't\": 6, 'hundreds': 6, 'lo': 6, 'trying': 6, 'sir': 6, 'feeling': 6, 'fast': 6, 'stand': 6, 'gun': 6, 'andy': 6, 'opens': 6, 'week': 6, 'trouble': 6, 'lawyer': 6, 'central': 6, \"couldn't\": 6, 'pretty': 6, 'worker': 6, 'everything': 6, 'long': 6, 'smoke': 6, \"vanessa's\": 6, \"you've\": 6, 'name': 6, 'farms': 6, 'windshield': 6, 'bugs': 6, 'smoker': 6, 'minute': 6, 'taking': 6, 'nose': 6, 'jury': 6, 'klauss': 6, 'bathroom': 6, 'wings': 7, 'looking': 7, \"we'll\": 7, \"i'd\": 7, 'three': 7, 'guess': 7, 'lands': 7, 'together': 7, 'inside': 7, 'side': 7, \"she's\": 7, 'after': 7, 'try': 7, 'anything': 7, 'ever': 7, 'close': 7, 'guys': 7, 'ladies': 7, 'am': 7, 'let': 7, 'funny': 7, 'listen': 7, 'open': 7, 'lister': 7, 'front': 7, 'any': 7, 'turns': 7, 'flight': 7, 'ball': 7, 'stuck': 7, 'entire': 7, 'pointing': 7, 'eat': 7, 'drop': 7, 'made': 7, 'leave': 7, 'table': 7, 'sitting': 7, 'next': 7, 'mean': 7, 'giant': 7, 'huge': 7, 'shop': 7, 'leaves': 7, 'beekeeper': 7, 'reporter': 7, 'hal': 7, \"let's\": 8, 'ready': 8, 'coming': 8, 'pick': 8, 'thought': 8, 'hear': 8, 'need': 8, 'bit': 8, 'nectar': 8, 'every': 8, 'wearing': 8, 'enough': 8, 'done': 8, 'couple': 8, 'night': 8, 'making': 8, 'stinger': 8, 'call': 8, 'suddenly': 8, 'happened': 8, 'another': 8, 'rain': 8, 'lu': 8, 'goes': 8, 'tennis': 8, 'hit': 8, 'help': 8, 'tries': 8, 'points': 8, 'behind': 8, 'ray': 8, 'people': 8, 'case': 8, 'security': 8, 'small': 9, 'does': 9, 'guide': 9, 'hands': 9, 'whole': 9, 'everyone': 9, 'makes': 9, 'krelman': 9, \"what's\": 9, 'home': 9, 'great': 9, 'other': 9, 'move': 9, 'guy': 9, 'first': 9, 'puts': 9, 'hard': 9, 'crazy': 9, 'thank': 9, 'turn': 9, 'starts': 9, 'start': 9, \"doesn't\": 9, 'kill': 9, 'nothing': 9, 'water': 9, 'world': 9, 'court': 9, 'toilet': 9, 'captain': 9, 'snap': 9, 'heard': 10, 'hello': 10, 'park': 10, 'put': 10, 'tour': 10, 'wow': 10, 'lot': 10, 'outside': 10, 'hand': 10, 'scene': 10, 'sees': 10, 'man': 10, 'something': 10, 'falls': 10, 'big': 10, 'face': 10, 'mosquito': 10, 'liotta': 10, 'bob': 10, 'bumble': 10, 'larry': 10, 'king': 10, 'order': 10, 'bud': 10, 'black': 11, 'yellow': 11, 'believe': 11, \"i'll\": 11, 'stop': 11, 'day': 11, 'please': 11, 'new': 11, 'sure': 11, 'check': 11, 'which': 11, 'bear': 11, \"isn't\": 11, 'getting': 11, 'takes': 11, 'free': 11, 'bug': 11, 'gotta': 11, 'room': 11, 'coffee': 11, 'guard': 11, 'too': 12, 'because': 12, 'thing': 12, 'come': 12, 'being': 12, 'had': 12, 'maybe': 12, \"i've\": 12, 'than': 12, 'much': 12, 'gonna': 12, 'or': 12, 'take': 12, 'talk': 12, 'last': 12, 'scott': 12, 'never': 13, 'girl': 13, 'wait': 13, 'still': 13, 'again': 13, 'dead': 13, 'hold': 13, 'buzz': 13, \"they're\": 13, 'those': 14, 'hey': 14, 'were': 14, 'duva': 14, 'really': 14, 'ok': 14, 'hits': 14, 'window': 14, 'way': 15, 'very': 15, 'door': 15, 'hive': 15, 'did': 15, 'she': 15, 'lou': 15, 'doing': 15, 'two': 15, '#2': 15, 'bumbleton': 15, 'sorry': 16, 'say': 16, 'been': 16, 'only': 16, 'walks': 16, 'hector': 16, 'news': 16, 'gets': 17, 'away': 17, 'their': 17, 'would': 17, 'more': 17, 'head': 17, \"he's\": 17, 'roses': 17, 'flower': 17, 'then': 17, 'her': 17, 'truck': 17, 'judge': 17, 'benson': 18, 'good': 18, 'sting': 18, 'has': 18, 'look': 18, \"there's\": 18, 'human': 18, 'car': 19, 'will': 19, 'these': 19, 'want': 19, 'humans': 20, 'us': 20, 'flying': 20, 'through': 21, 'who': 21, 'flash': 21, 'mr': 21, 'around': 22, 'go': 22, 'yes': 22, 'now': 22, 'fly': 23, 'make': 23, 'looks': 23, 'going': 24, 'over': 24, 'well': 24, 'job': 24, 'work': 24, 'some': 24, 'little': 25, 'if': 25, 'them': 25, 'mooseblood': 25, 'off': 27, 'martin': 27, 'could': 27, 'why': 27, 'life': 27, '#1': 27, 'thinking': 27, 'flowers': 27, 'by': 28, 'janet': 28, 'yeah': 28, 'as': 28, 'jocks': 28, 'think': 29, 'down': 29, 'an': 29, 'talking': 29, 'forward': 29, \"can't\": 30, 'about': 30, 'flies': 31, \"we're\": 31, 'him': 31, 'one': 31, 'plane': 31, 'montgomery': 32, 'there': 34, 'how': 34, 'oh': 34, 'got': 35, 'our': 35, 'where': 35, 'can': 36, 'so': 38, 'from': 39, 'here': 40, \"you're\": 40, 'back': 41, \"that's\": 43, 'get': 45, 'right': 45, 'see': 46, 'time': 46, 'like': 47, 'jock': 49, 'was': 51, 'me': 52, 'my': 52, 'into': 55, 'be': 56, 'know': 56, 'not': 57, 'just': 57, 'up': 61, 'his': 63, 'for': 64, 'they': 64, \"don't\": 65, 'at': 65, 'but': 67, 'do': 68, 'no': 69, 'honey': 72, \"it's\": 73, 'your': 75, \"i'm\": 79, 'with': 80, 'have': 80, 'bees': 82, 'all': 84, 'pollen': 89, 'ken': 90, 'he': 91, 'what': 101, 'out': 101, 'are': 104, 'we': 107, 'that': 125, 'this': 127, 'bee': 130, 'on': 144, 'adam': 153, 'in': 199, 'of': 204, 'is': 206, 'it': 208, 'i': 242, 'vanessa': 246, 'you': 273, 'to': 311, 'and': 328, 'a': 392, 'the': 600, 'barry': 610}\n"
     ]
    }
   ],
   "source": [
    "# Imprimir todas las palabras y la cantidad de veces que fue repetida cada una dentro de bee.txt\n",
    "with open(\"bee.txt\", 'r') as file: # archivo bee.txt o reemplazar por URL\n",
    "    content = file.read() # Cargar el documento de texto\n",
    "    print(word_count(content)) # por default en orden ascendente "
   ]
  },
  {
   "cell_type": "markdown",
   "metadata": {},
   "source": [
    "Luego, realizar una función que reciba la frecuencia de palabras calculada con\n",
    "word_count e imprima las 10 palabras que aparecen con mayor frecuencia, junto con la\n",
    "cantidad de veces que aparece."
   ]
  },
  {
   "cell_type": "code",
   "execution_count": 26,
   "metadata": {},
   "outputs": [
    {
     "name": "stdout",
     "output_type": "stream",
     "text": [
      "{'barry': 610, 'the': 600, 'a': 392, 'and': 328, 'to': 311, 'you': 273, 'vanessa': 246, 'i': 242, 'it': 208, 'is': 206}\n"
     ]
    }
   ],
   "source": [
    "# Devolver las 10 palabras más repetidas (en orden descendente) y la cantidad de veces fue repetida.\n",
    "with open(\"bee.txt\", 'r') as file: #archivo bee.txt o reemplazar por URL\n",
    "    content = file.read() # Cargar el documento de texto\n",
    "    print(word_count(content, rank=10)) # Imprimir las 10 palabras más repetidas. Rank establece la cantidad de palabras."
   ]
  }
 ],
 "metadata": {
  "kernelspec": {
   "display_name": "Python 3",
   "language": "python",
   "name": "python3"
  },
  "language_info": {
   "codemirror_mode": {
    "name": "ipython",
    "version": 3
   },
   "file_extension": ".py",
   "mimetype": "text/x-python",
   "name": "python",
   "nbconvert_exporter": "python",
   "pygments_lexer": "ipython3",
   "version": "3.11.8"
  }
 },
 "nbformat": 4,
 "nbformat_minor": 2
}
