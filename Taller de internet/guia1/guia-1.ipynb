{
 "cells": [
  {
   "cell_type": "markdown",
   "metadata": {},
   "source": [
    "1. Hacer una funcion que reciba un string _name_ e imprima el nombre como \"el nombre ingresado es: name\""
   ]
  },
  {
   "cell_type": "code",
   "execution_count": 2,
   "metadata": {},
   "outputs": [
    {
     "name": "stdout",
     "output_type": "stream",
     "text": [
      "el nombre ingresado es: Lorenzo\n"
     ]
    }
   ],
   "source": [
    "def name(name=str):\n",
    "    print(f\"el nombre ingresado es: {name}\")\n",
    "\n",
    "name(\"Lorenzo\")"
   ]
  },
  {
   "cell_type": "markdown",
   "metadata": {},
   "source": [
    "2. Hacer una funcion que sume el valor de dos variables"
   ]
  },
  {
   "cell_type": "code",
   "execution_count": 4,
   "metadata": {},
   "outputs": [],
   "source": [
    "def sum(number_1, number_2):\n",
    "    print(float(number_1)+float(number_2)) #Uso de float para evitar errores con decimales"
   ]
  },
  {
   "cell_type": "markdown",
   "metadata": {},
   "source": [
    "3. hacer una funcion que reciba dos variables X e Y, para despues devolver la resta de ambos valores"
   ]
  },
  {
   "cell_type": "code",
   "execution_count": 5,
   "metadata": {},
   "outputs": [],
   "source": [
    "def rest(x, y):\n",
    "    return(float(x)-float(y)) "
   ]
  },
  {
   "cell_type": "markdown",
   "metadata": {},
   "source": [
    "4. Hacer una funcion que divida el valor de dos variables"
   ]
  },
  {
   "cell_type": "code",
   "execution_count": 7,
   "metadata": {},
   "outputs": [],
   "source": [
    "def divide(x, y):\n",
    "    return(int(x)/int(y)) "
   ]
  },
  {
   "cell_type": "markdown",
   "metadata": {},
   "source": [
    "5. Hacer una funcion que multiplique dos variables"
   ]
  },
  {
   "cell_type": "code",
   "execution_count": 9,
   "metadata": {},
   "outputs": [],
   "source": [
    "def multiply(x, y):\n",
    "    return(float(x)*float(y)) "
   ]
  },
  {
   "cell_type": "markdown",
   "metadata": {},
   "source": [
    "6. Hacer una funcion que saque la raiz cuadrada de una variable"
   ]
  },
  {
   "cell_type": "code",
   "execution_count": 12,
   "metadata": {},
   "outputs": [
    {
     "name": "stdout",
     "output_type": "stream",
     "text": [
      "8.0\n"
     ]
    }
   ],
   "source": [
    "# math.sqroot alternative\n",
    "def sqroot(x):\n",
    "    return(float(x)/2) \n",
    "\n",
    "print(sqroot(16))"
   ]
  },
  {
   "cell_type": "markdown",
   "metadata": {},
   "source": [
    "7. Hacer una funcion que calcule la potencia de un valor pasado a los parametros"
   ]
  },
  {
   "cell_type": "code",
   "execution_count": 13,
   "metadata": {},
   "outputs": [],
   "source": [
    "def potencia(x, y=2): # 2 by default\n",
    "    return(float(x)**y) \n"
   ]
  },
  {
   "cell_type": "markdown",
   "metadata": {},
   "source": [
    "8. Hacer una funcion para verificar si un numero es par"
   ]
  },
  {
   "cell_type": "code",
   "execution_count": 16,
   "metadata": {},
   "outputs": [
    {
     "data": {
      "text/plain": [
       "False"
      ]
     },
     "execution_count": 16,
     "metadata": {},
     "output_type": "execute_result"
    }
   ],
   "source": [
    "def isOdd(x): # 2 by default\n",
    "    return True if x%2 == 0 else False"
   ]
  },
  {
   "cell_type": "markdown",
   "metadata": {},
   "source": [
    "9. Crear funcion que reciba un indice junto con un nuevo nombre y modifique el anterior en su posicion"
   ]
  },
  {
   "cell_type": "code",
   "execution_count": 19,
   "metadata": {},
   "outputs": [
    {
     "name": "stdout",
     "output_type": "stream",
     "text": [
      "Before: ['martin', 'pedro', 'juan', 'agustin']\n",
      "None\n",
      "After: ['martin', 'pedro', 'lorenzo el mejor', 'agustin']\n"
     ]
    }
   ],
   "source": [
    "names_list = [\"martin\", \"pedro\", \"juan\", \"agustin\"]\n",
    "def replaceName (index_position, new_name):\n",
    "    names_list[index_position] = new_name\n",
    "\n",
    "print(f\"Before: {names_list}\")\n",
    "print(replaceName(2, \"⭐ lorenzo el mejor\"))\n",
    "print(f\"After: {names_list}\")\n"
   ]
  },
  {
   "cell_type": "markdown",
   "metadata": {},
   "source": [
    "10. dada una lista de numeros obtener la suma de todos los elementos"
   ]
  },
  {
   "cell_type": "code",
   "execution_count": 20,
   "metadata": {},
   "outputs": [
    {
     "data": {
      "text/plain": [
       "21"
      ]
     },
     "execution_count": 20,
     "metadata": {},
     "output_type": "execute_result"
    }
   ],
   "source": [
    "def sum_list(list = []):\n",
    "    result = 0\n",
    "    for element in list:\n",
    "        result += int(element)\n",
    "    return result\n",
    "\n",
    "sum_list([1,2,3,4,5,6])\n"
   ]
  },
  {
   "cell_type": "markdown",
   "metadata": {},
   "source": [
    "11. dado un nombre y un apellido obtener las siguientes variaciones de capitalizacion del nombre completo: \n",
    "\n",
    "- nombre apellido\n",
    "- Nombre Apellido\n",
    "- NOMBRE APELLIDO"
   ]
  },
  {
   "cell_type": "code",
   "execution_count": 37,
   "metadata": {},
   "outputs": [
    {
     "data": {
      "text/plain": [
       "[('Lorenzo', 'Marquesini'),\n",
       " ('LORENZO', 'MARQUESINI'),\n",
       " ('lorenzo', 'marquesini')]"
      ]
     },
     "execution_count": 37,
     "metadata": {},
     "output_type": "execute_result"
    }
   ],
   "source": [
    "def full_name_capitalization(name = \"\", surname=\"\"):\n",
    "    return [(name.capitalize(), surname.capitalize()), (name.upper(),surname.upper()),(name.lower(), surname.lower())]\n",
    "\n",
    "full_name_capitalization(\"loReNZo\",\"MaRQuEsInI\") # Resultado en tuples"
   ]
  },
  {
   "cell_type": "markdown",
   "metadata": {},
   "source": [
    "12. dados dos strings a y b imprimir cual de los dos va primero en orden alfabetico"
   ]
  },
  {
   "cell_type": "code",
   "execution_count": 58,
   "metadata": {},
   "outputs": [
    {
     "name": "stdout",
     "output_type": "stream",
     "text": [
      "El primero es aa\n"
     ]
    }
   ],
   "source": [
    "def sort_string(a,b):\n",
    "    strings = [a.lower() , b.lower()]\n",
    "    strings.sort()\n",
    "    print(f\"El primero es {strings[0]}\")\n",
    "\n",
    "sort_string(\"Aa\", \"AB\")"
   ]
  },
  {
   "cell_type": "markdown",
   "metadata": {},
   "source": [
    "13. Hacer una funcion _change_ que dada una compra, recibe un valor pagado y un valor a pagar. Devolver el vuelto."
   ]
  },
  {
   "cell_type": "code",
   "execution_count": 60,
   "metadata": {},
   "outputs": [
    {
     "data": {
      "text/plain": [
       "4995.0"
      ]
     },
     "execution_count": 60,
     "metadata": {},
     "output_type": "execute_result"
    }
   ],
   "source": [
    "def change(paid= 0, cost=0):\n",
    "    return float(cost) - float(paid)\n",
    "\n",
    "change(5, 5000)"
   ]
  },
  {
   "cell_type": "markdown",
   "metadata": {},
   "source": [
    "14. dada una lista de nombres escribir una funciona que reciba el nombre de usuario e imprima \"Registrado\" o \"No registrado\""
   ]
  },
  {
   "cell_type": "code",
   "execution_count": 64,
   "metadata": {},
   "outputs": [
    {
     "name": "stdout",
     "output_type": "stream",
     "text": [
      "No registrado\n"
     ]
    }
   ],
   "source": [
    "names = [\"Lorenzo\", \"Pedro\", \"Juan\"]\n",
    "\n",
    "def validate_name(name): # Case sensitive\n",
    "    print (\"Registrado\" if name in names else \"No registrado\")\n",
    "\n",
    "validate_name(\"Tomas\")"
   ]
  },
  {
   "cell_type": "markdown",
   "metadata": {},
   "source": [
    "15. Dado un string obtener usando slicing el primer y ultimo caracter"
   ]
  },
  {
   "cell_type": "code",
   "execution_count": 66,
   "metadata": {},
   "outputs": [
    {
     "data": {
      "text/plain": [
       "['F', 't']"
      ]
     },
     "execution_count": 66,
     "metadata": {},
     "output_type": "execute_result"
    }
   ],
   "source": [
    "def first_last_char(string):\n",
    "    return [string[0], string[-1]]\n",
    "\n",
    "first_last_char(\"First and last Character test\")"
   ]
  },
  {
   "cell_type": "markdown",
   "metadata": {},
   "source": [
    "16. Dados los siguientes costos para las entradas, se requiere saber cuanto debera pagar un adolecente con su abuelo."
   ]
  },
  {
   "cell_type": "code",
   "execution_count": 70,
   "metadata": {},
   "outputs": [
    {
     "name": "stdout",
     "output_type": "stream",
     "text": [
      "From 5 to 17\n",
      "Older than 50\n"
     ]
    },
    {
     "data": {
      "text/plain": [
       "60"
      ]
     },
     "execution_count": 70,
     "metadata": {},
     "output_type": "execute_result"
    }
   ],
   "source": [
    "def get_price(age):\n",
    "    if (age <= 4):\n",
    "        print(\"Up to 4y\")\n",
    "        return 0\n",
    "    elif(age <= 17):\n",
    "        print(\"From 5 to 17\")\n",
    "        return 50\n",
    "    elif(age <= 50):\n",
    "        print(\"From 18 to 50\")\n",
    "        return 50\n",
    "    elif(age > 50):\n",
    "        print(\"Older than 50\")\n",
    "        return 10\n",
    "    \n",
    "\n",
    "def clients_cost(clients_age = []):\n",
    "    final_cost = 0\n",
    "    for client in clients_age:\n",
    "       final_cost += get_price(client)\n",
    "    return final_cost\n",
    "\n",
    "clients_cost([16, 70])\n",
    "    "
   ]
  },
  {
   "cell_type": "markdown",
   "metadata": {},
   "source": [
    "17. Funcion que dado un dia de la semana imprima si..\n",
    "- Dia laboral\n",
    "- Dia de fin de semana\n",
    "- Dia si el dia no e válido"
   ]
  },
  {
   "cell_type": "code",
   "execution_count": 75,
   "metadata": {},
   "outputs": [
    {
     "name": "stdout",
     "output_type": "stream",
     "text": [
      "Dia de semana\n"
     ]
    }
   ],
   "source": [
    "days_dict = {\n",
    "    \"lunes\" : \"Dia de semana\",\n",
    "    \"martes\" : \"Dia de semana\",\n",
    "    \"miercoles\" : \"Dia de semana\",\n",
    "    \"miércoles\" : \"Dia de semana\", # tilde\n",
    "    \"jueves\" : \"Dia de semana\",\n",
    "    \"viernes\" : \"Dia de semana\",\n",
    "    \"sabado\" : \"Fin de semana\",\n",
    "    \"domingo\" : \"Fin de semana\"\n",
    "}\n",
    "\n",
    "def check_day(day = \"\"):\n",
    "    if day.lower() in days_dict:\n",
    "        print (days_dict[day.lower()])\n",
    "    else:\n",
    "        print(\"Día no encontrado\")\n",
    "\n",
    "check_day(\"juEVes\")"
   ]
  },
  {
   "cell_type": "markdown",
   "metadata": {},
   "source": [
    "18. Escribir una funcion que dado un año determine si es bisiesto"
   ]
  },
  {
   "cell_type": "code",
   "execution_count": 79,
   "metadata": {},
   "outputs": [
    {
     "name": "stdout",
     "output_type": "stream",
     "text": [
      "No es bisiesto\n",
      "Es bisiesto\n"
     ]
    }
   ],
   "source": [
    "def leap_year(year):\n",
    "    if(year % 100 == 0):\n",
    "        print (\"Es bisiesto\" if year % 400 == 0 else \"No es bisiesto\")\n",
    "    else:\n",
    "        print (\"Es bisiesto\" if year % 4 == 0 else \"No es bisiesto\")\n",
    "\n",
    "leap_year(2023) # no ✅\n",
    "leap_year(2024) # si ✅"
   ]
  },
  {
   "cell_type": "markdown",
   "metadata": {},
   "source": [
    "19. Hacer una funcion que reciba una cantidad de dias y devuelva la cantidad de horas"
   ]
  },
  {
   "cell_type": "code",
   "execution_count": 81,
   "metadata": {},
   "outputs": [
    {
     "data": {
      "text/plain": [
       "48"
      ]
     },
     "execution_count": 81,
     "metadata": {},
     "output_type": "execute_result"
    }
   ],
   "source": [
    "def days_to_hours(days=0):\n",
    "    return days*24 if days > 0 else 0\n",
    "\n",
    "days_to_hours(2)"
   ]
  },
  {
   "cell_type": "markdown",
   "metadata": {},
   "source": [
    "20. Escribir una funcion que reciba altura y largo de un rectangulo y devuelva su perimetro\n"
   ]
  },
  {
   "cell_type": "code",
   "execution_count": 83,
   "metadata": {},
   "outputs": [
    {
     "data": {
      "text/plain": [
       "20"
      ]
     },
     "execution_count": 83,
     "metadata": {},
     "output_type": "execute_result"
    }
   ],
   "source": [
    "def find_perimeter(heigth, width):\n",
    "    return heigth * 2 + width * 2\n",
    "\n",
    "find_perimeter(4, 6)\n"
   ]
  },
  {
   "cell_type": "markdown",
   "metadata": {},
   "source": [
    "21. Hacer una funcion que determine si un string es un palidromo"
   ]
  },
  {
   "cell_type": "code",
   "execution_count": 110,
   "metadata": {},
   "outputs": [
    {
     "data": {
      "text/plain": [
       "True"
      ]
     },
     "execution_count": 110,
     "metadata": {},
     "output_type": "execute_result"
    }
   ],
   "source": [
    "def palindrome(word=\"\"):\n",
    "    return True if word == word[len(word)::-1] else False\n",
    "\n",
    "palindrome(\"neuquen\")"
   ]
  },
  {
   "cell_type": "markdown",
   "metadata": {},
   "source": [
    "22. Devolver nombre del mes basado en su numero"
   ]
  },
  {
   "cell_type": "code",
   "execution_count": 119,
   "metadata": {},
   "outputs": [
    {
     "data": {
      "text/plain": [
       "'Enero'"
      ]
     },
     "execution_count": 119,
     "metadata": {},
     "output_type": "execute_result"
    }
   ],
   "source": [
    "months_dict = {\n",
    "    1 : \"Enero\",\n",
    "    2 : \"Febrero\",\n",
    "    3 : \"Marzo\",\n",
    "    4 : \"Abril\",\n",
    "    5 : \"Mayo\",\n",
    "    6 : \"Junio\",\n",
    "    7 : \"Julio\",\n",
    "    8 : \"Agosto\",\n",
    "    9 : \"Septiembre\",\n",
    "    10 : \"Octubre\",\n",
    "    11 : \"Noviembre\",\n",
    "    12 : \"Diciembre\",\n",
    "}\n",
    "\n",
    "def check_month(month_number):\n",
    "   if month_number in months_dict:\n",
    "    return months_dict[month_number]\n",
    "   else:\n",
    "     return 0\n",
    "\n",
    "check_month(1)"
   ]
  },
  {
   "cell_type": "markdown",
   "metadata": {},
   "source": [
    "23. Escribir una funcion que dado un string con el nombre del usuario devuelva una contraseña compuesta por las primeras 3 letras de su apellido seguidas de las ultimas 3 letras de su nombre. Si no se cumple el largo acortar todo"
   ]
  }
 ],
 "metadata": {
  "kernelspec": {
   "display_name": "Python 3",
   "language": "python",
   "name": "python3"
  },
  "language_info": {
   "codemirror_mode": {
    "name": "ipython",
    "version": 3
   },
   "file_extension": ".py",
   "mimetype": "text/x-python",
   "name": "python",
   "nbconvert_exporter": "python",
   "pygments_lexer": "ipython3",
   "version": "3.11.8"
  }
 },
 "nbformat": 4,
 "nbformat_minor": 2
}
