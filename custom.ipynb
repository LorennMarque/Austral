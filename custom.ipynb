{
 "cells": [
  {
   "cell_type": "code",
   "execution_count": 26,
   "metadata": {},
   "outputs": [
    {
     "data": {
      "image/png": "[encoded data removed]",
      "text/plain": [
       "<Figure size 640x480 with 1 Axes>"
      ]
     },
     "metadata": {},
     "output_type": "display_data"
    }
   ],
   "source": [
    "import matplotlib.pyplot as plt\n",
    "\n",
    "# Data\n",
    "categories = ['A', 'B', 'C', 'D']\n",
    "values = [10, 24, 36, 48]\n",
    "\n",
    "# Create a bar chart\n",
    "fig, ax = plt.subplots()\n",
    "\n",
    "# Customize the bar color\n",
    "bar_color = '#ff87f1'\n",
    "\n",
    "# Create bars\n",
    "bars = ax.bar(categories, values, color=bar_color)\n",
    "\n",
    "# Customize the background color\n",
    "background_color = '#fff'\n",
    "fig.patch.set_facecolor(background_color)\n",
    "\n",
    "# Remove grid\n",
    "ax.grid(False)\n",
    "\n",
    "# Remove the axes\n",
    "ax.axis('off')\n",
    "\n",
    "# Add labels\n",
    "# ax.set_xlabel('Categories', fontsize=12)\n",
    "# ax.set_ylabel('Values', fontsize=12)\n",
    "# ax.set_title('Simple Bar Chart', fontsize=14)\n",
    "\n",
    "# Customize the axis\n",
    "# ax.spines['top'].set_visible(False)\n",
    "# ax.spines['right'].set_visible(False)\n",
    "# ax.spines['left'].set_color('grey')\n",
    "# ax.spines['bottom'].set_color('grey')\n",
    "\n",
    "# Customize the ticks\n",
    "ax.tick_params(axis='x', colors='grey')\n",
    "ax.tick_params(axis='y', colors='grey')\n",
    "# Show the plot\n",
    "plt.show()"
   ]
  },
  {
   "cell_type": "code",
   "execution_count": 27,
   "metadata": {},
   "outputs": [],
   "source": [
    "\n",
    "# Save the figure\n",
    "output_filename = 'bar_chart.png'\n",
    "fig.savefig(output_filename, bbox_inches='tight', dpi=300)"
   ]
  }
 ],
 "metadata": {
  "kernelspec": {
   "display_name": "Python 3",
   "language": "python",
   "name": "python3"
  },
  "language_info": {
   "codemirror_mode": {
    "name": "ipython",
    "version": 3
   },
   "file_extension": ".py",
   "mimetype": "text/x-python",
   "name": "python",
   "nbconvert_exporter": "python",
   "pygments_lexer": "ipython3",
   "version": "3.11.9"
  }
 },
 "nbformat": 4,
 "nbformat_minor": 2
}
