{
 "cells": [
  {
   "cell_type": "markdown",
   "metadata": {},
   "source": [
    "### Guia de Ejercicios: Introducción a la programación en Python\n",
    "\n",
    "#### Objetivos\n",
    "- Configurar entorno en su computadora\n",
    "- Usar la consola interactiva de Python\n",
    "- Crear y ejecutar scripts de Python\n",
    "- Interactuar con el usuario\n"
   ]
  },
  {
   "cell_type": "markdown",
   "metadata": {},
   "source": [
    "Ejercicio 1\n",
    "> Instalado ✅\n",
    "\n",
    "Ejercicio 2\n",
    "> Utilizo VS Code \n",
    "\n",
    "Ejercicio 3\n",
    "> El output es de ```12```\n",
    "\n",
    "Ejercicio 4\n",
    "> El valor de z ≈ 5.333334"
   ]
  },
  {
   "cell_type": "code",
   "execution_count": 1,
   "metadata": {},
   "outputs": [
    {
     "name": "stdout",
     "output_type": "stream",
     "text": [
      "Valor de x (<class 'int'>): 8\n",
      "Valor de y (<class 'float'>): 2.6666666666666665\n",
      "Valor de z (<class 'float'>): 5.333333333333334\n"
     ]
    }
   ],
   "source": [
    "x = 1\n",
    "x += 3\n",
    "x = x * 2\n",
    "y = x / 3\n",
    "z = x - y\n",
    "\n",
    "print(f\"Valor de x ({type(x)}): {x}\")\n",
    "print(f\"Valor de y ({type(y)}): {y}\")\n",
    "print(f\"Valor de z ({type(z)}): {z}\")"
   ]
  },
  {
   "cell_type": "markdown",
   "metadata": {},
   "source": [
    "Ejercicio 5"
   ]
  },
  {
   "cell_type": "code",
   "execution_count": 9,
   "metadata": {},
   "outputs": [
    {
     "name": "stdout",
     "output_type": "stream",
     "text": [
      "¡Hola Lolo!\n"
     ]
    }
   ],
   "source": [
    "user_name = input(\"Cual es tu nombre?\")\n",
    "print(f\"¡Hola {user_name}!\")"
   ]
  },
  {
   "cell_type": "markdown",
   "metadata": {},
   "source": [
    "Ejercicio 6"
   ]
  },
  {
   "cell_type": "code",
   "execution_count": 16,
   "metadata": {},
   "outputs": [
    {
     "name": "stdout",
     "output_type": "stream",
     "text": [
      "9.0\n"
     ]
    }
   ],
   "source": [
    "print(float(input(\"Primer Número = \")) + float(input(\"Segundo Número: \")))\n",
    "# Float para evitar errores con decimales."
   ]
  },
  {
   "cell_type": "markdown",
   "metadata": {},
   "source": [
    "¿Qué devuelve el programa en cada caso?\n",
    "a. el número 4 y 5\n",
    "> 9.0\n",
    "\n",
    "b. las letras a y b\n",
    "> Error, la letra no es de tipo \"float\"\n",
    "\n",
    "c. la letra a y el número 5\n",
    "> Error, la letra no es de tipo \"float\"\n",
    "\n",
    "\n"
   ]
  }
 ],
 "metadata": {
  "kernelspec": {
   "display_name": "Python 3",
   "language": "python",
   "name": "python3"
  },
  "language_info": {
   "codemirror_mode": {
    "name": "ipython",
    "version": 3
   },
   "file_extension": ".py",
   "mimetype": "text/x-python",
   "name": "python",
   "nbconvert_exporter": "python",
   "pygments_lexer": "ipython3",
   "version": "3.11.8"
  }
 },
 "nbformat": 4,
 "nbformat_minor": 2
}
