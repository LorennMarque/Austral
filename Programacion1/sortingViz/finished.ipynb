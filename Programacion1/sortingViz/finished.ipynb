{
 "cells": [
  {
   "cell_type": "code",
   "execution_count": 4,
   "metadata": {},
   "outputs": [],
   "source": [
    "def intercalar(list1, list2):\n",
    "    # Nueva lista juntando las anteriores\n",
    "    ans = list1 + list2 \n",
    "\n",
    "    # Index del ultimo elemento para identificar hasta donde hacer el swap\n",
    "    last_element_of_list_1_index = len(list1)-1 \n",
    "\n",
    "    list2_index = 1\n",
    "    list1_index = 0\n",
    "    # Intercambiamos los elementos con su opuesto en la otra lista.\n",
    "    # Dede el centro hacia afuera para no sobreescribir los cambios.\n",
    "    while len(list2) >= list2_index and len(list1) >= list1_index:\n",
    "        ans[last_element_of_list_1_index+list2_index], ans[last_element_of_list_1_index-list1_index] = ans[last_element_of_list_1_index-list1_index], ans[last_element_of_list_1_index+list2_index]\n",
    "        list2_index += 2\n",
    "        list1_index += 2\n",
    "    print(ans)"
   ]
  },
  {
   "cell_type": "code",
   "execution_count": 5,
   "metadata": {},
   "outputs": [
    {
     "name": "stdout",
     "output_type": "stream",
     "text": [
      "[2, 1, 2, 1, 2, 1, 2, 1, 2, 1, 2, 1, 2, 1, 2, 1, 2, 1, 2]\n"
     ]
    }
   ],
   "source": [
    "intercalar([1,1,1,1,1,1,1,1,1],[2,2,2,2,2,2,2,2,2,2])"
   ]
  },
  {
   "cell_type": "markdown",
   "metadata": {},
   "source": [
    "## Visualizar Resultados"
   ]
  }
 ],
 "metadata": {
  "kernelspec": {
   "display_name": "Python 3",
   "language": "python",
   "name": "python3"
  },
  "language_info": {
   "codemirror_mode": {
    "name": "ipython",
    "version": 3
   },
   "file_extension": ".py",
   "mimetype": "text/x-python",
   "name": "python",
   "nbconvert_exporter": "python",
   "pygments_lexer": "ipython3",
   "version": "3.11.9"
  }
 },
 "nbformat": 4,
 "nbformat_minor": 2
}
