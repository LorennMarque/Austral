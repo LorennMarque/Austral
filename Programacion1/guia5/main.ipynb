{
 "cells": [
  {
   "cell_type": "code",
   "execution_count": 9,
   "metadata": {},
   "outputs": [],
   "source": [
    "import math"
   ]
  },
  {
   "cell_type": "markdown",
   "metadata": {},
   "source": [
    "Ejercicio 1\n",
    "Definir una función que reciba un string y un número n y devuelva un substring de longitud n y que\n",
    "contenga los caracteres del centro del string.\n",
    "Ejemplo: para (“Hola Mundo!”, 3) devuelve: “ Mu”"
   ]
  },
  {
   "cell_type": "code",
   "execution_count": 119,
   "metadata": {},
   "outputs": [],
   "source": [
    "def substring(string, length):\n",
    "    result = [string[len(string)//2]] if length > 0 else []\n",
    "    index = 1\n",
    "    while len(result) < length:\n",
    "        result.extend([string[len(string)//2 - index], string[len(string)//2 + index]])\n",
    "        index += 1\n",
    "    return result"
   ]
  },
  {
   "cell_type": "code",
   "execution_count": 120,
   "metadata": {},
   "outputs": [
    {
     "data": {
      "text/plain": [
       "['4']"
      ]
     },
     "execution_count": 120,
     "metadata": {},
     "output_type": "execute_result"
    }
   ],
   "source": [
    "substring(\"123456\", 1)"
   ]
  },
  {
   "cell_type": "code",
   "execution_count": null,
   "metadata": {},
   "outputs": [],
   "source": []
  },
  {
   "cell_type": "markdown",
   "metadata": {},
   "source": []
  },
  {
   "cell_type": "markdown",
   "metadata": {},
   "source": []
  },
  {
   "cell_type": "markdown",
   "metadata": {},
   "source": []
  },
  {
   "cell_type": "markdown",
   "metadata": {},
   "source": [
    "Ejercicio 5\n",
    "Definir una función que reciba un string que representa un número en formato 150.000,45 y lo convierta\n",
    "al formato 150,000.45.\n"
   ]
  },
  {
   "cell_type": "code",
   "execution_count": 5,
   "metadata": {},
   "outputs": [
    {
     "data": {
      "text/plain": [
       "'150,000.45'"
      ]
     },
     "execution_count": 5,
     "metadata": {},
     "output_type": "execute_result"
    }
   ],
   "source": [
    "def replace_coma (number):\n",
    "    return number.replace(\".\",\"/\").replace(\",\",\".\").replace(\"/\",\",\")\n",
    "\n",
    "replace_coma(\"150.000,45\")"
   ]
  },
  {
   "cell_type": "markdown",
   "metadata": {},
   "source": []
  },
  {
   "cell_type": "markdown",
   "metadata": {},
   "source": []
  },
  {
   "cell_type": "markdown",
   "metadata": {},
   "source": []
  },
  {
   "cell_type": "markdown",
   "metadata": {},
   "source": []
  },
  {
   "cell_type": "markdown",
   "metadata": {},
   "source": []
  },
  {
   "cell_type": "markdown",
   "metadata": {},
   "source": []
  },
  {
   "cell_type": "markdown",
   "metadata": {},
   "source": []
  },
  {
   "cell_type": "markdown",
   "metadata": {},
   "source": []
  },
  {
   "cell_type": "markdown",
   "metadata": {},
   "source": []
  },
  {
   "cell_type": "markdown",
   "metadata": {},
   "source": []
  },
  {
   "cell_type": "markdown",
   "metadata": {},
   "source": []
  },
  {
   "cell_type": "markdown",
   "metadata": {},
   "source": []
  },
  {
   "cell_type": "markdown",
   "metadata": {},
   "source": []
  },
  {
   "cell_type": "markdown",
   "metadata": {},
   "source": []
  },
  {
   "cell_type": "markdown",
   "metadata": {},
   "source": []
  },
  {
   "cell_type": "markdown",
   "metadata": {},
   "source": []
  },
  {
   "cell_type": "markdown",
   "metadata": {},
   "source": []
  },
  {
   "cell_type": "markdown",
   "metadata": {},
   "source": [
    "Ejercicio 17\n",
    "Definir una función que reciba un string y determine si el mismo representa una dirección válida. El\n",
    "formato de dirección es: “Calle Número, Localidad, Provincia, País”. Por ejemplo, una dirección válida\n",
    "es: “Misiones 128, Ledesma, Buenos Aires, Argentina”."
   ]
  },
  {
   "cell_type": "code",
   "execution_count": 2,
   "metadata": {},
   "outputs": [],
   "source": [
    "import re"
   ]
  },
  {
   "cell_type": "code",
   "execution_count": 3,
   "metadata": {},
   "outputs": [],
   "source": [
    "sample = \"Misiones 128, Ledesma, Buenos Aires, Argentina\""
   ]
  },
  {
   "cell_type": "code",
   "execution_count": 78,
   "metadata": {},
   "outputs": [],
   "source": [
    "# phone_pattern = re.compile(r'(\\w+\\s\\d+)') # Ciudad y número\n",
    "phone_pattern = re.compile(r'(\\w+\\s+\\d+),\\s*(.*?),\\s*(.*?),\\s*(.*?)$')\n",
    "results = re.search(phone_pattern,sample)"
   ]
  },
  {
   "cell_type": "code",
   "execution_count": 90,
   "metadata": {},
   "outputs": [
    {
     "name": "stdout",
     "output_type": "stream",
     "text": [
      "<re.Match object; span=(0, 46), match='Misiones 128, Ledesma, Buenos Aires, Argentina'>\n",
      "Misiones 128, Ledesma, Buenos Aires, Argentina\n",
      "Misiones 128\n",
      "Ledesma\n",
      "Buenos Aires\n",
      "Argentina\n"
     ]
    }
   ],
   "source": [
    "print(results)\n",
    "print(results.group())\n",
    "print(results.group(1))\n",
    "print(results.group(2))\n",
    "print(results.group(3))\n",
    "print(results.group(4))"
   ]
  }
 ],
 "metadata": {
  "kernelspec": {
   "display_name": "Python 3",
   "language": "python",
   "name": "python3"
  },
  "language_info": {
   "codemirror_mode": {
    "name": "ipython",
    "version": 3
   },
   "file_extension": ".py",
   "mimetype": "text/x-python",
   "name": "python",
   "nbconvert_exporter": "python",
   "pygments_lexer": "ipython3",
   "version": "3.11.9"
  }
 },
 "nbformat": 4,
 "nbformat_minor": 2
}
