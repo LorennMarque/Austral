{
 "cells": [
  {
   "cell_type": "markdown",
   "metadata": {},
   "source": [
    "Ejercicio 2\n",
    "Definir una función que solicite al usuario ingresar dos números y los sume. En caso de que los valores\n",
    "ingresados no sean numéricos volver a solicitar al usuario que ingrese el valor. Hacerlo manejando las\n",
    "excepciones y no con if."
   ]
  },
  {
   "cell_type": "code",
   "execution_count": 24,
   "metadata": {},
   "outputs": [],
   "source": [
    "def sum_numbers():\n",
    "    while True:\n",
    "        try:\n",
    "            y = float(input(\"Ingresar \"))\n",
    "            x = float(input(\"Ingresar \"))\n",
    "            return x + y\n",
    "        \n",
    "        except ValueError:\n",
    "            print(\"Ambos valores deben ser números\")"
   ]
  },
  {
   "cell_type": "code",
   "execution_count": 23,
   "metadata": {},
   "outputs": [
    {
     "name": "stdout",
     "output_type": "stream",
     "text": [
      "Ambos valores deben ser números\n"
     ]
    },
    {
     "data": {
      "text/plain": [
       "10.0"
      ]
     },
     "execution_count": 23,
     "metadata": {},
     "output_type": "execute_result"
    }
   ],
   "source": [
    "sum_numbers()"
   ]
  },
  {
   "cell_type": "markdown",
   "metadata": {},
   "source": [
    "Ejercicio 4\n",
    "Definir una función que busque en una lista un elemento dado. En caso de no encontrarlo que lance una\n",
    "excepción de tipo LookupError."
   ]
  },
  {
   "cell_type": "code",
   "execution_count": 51,
   "metadata": {},
   "outputs": [],
   "source": [
    "def find_element(target_list,element):\n",
    "    if element in target_list:\n",
    "        return True\n",
    "    else:\n",
    "        raise LookupError(f\"El elemento {element} no fue encontrado en la lista {target_list}\")"
   ]
  },
  {
   "cell_type": "code",
   "execution_count": 54,
   "metadata": {},
   "outputs": [
    {
     "ename": "LookupError",
     "evalue": "El elemento 3 no fue encontrado en la lista [1, 2, 3]",
     "output_type": "error",
     "traceback": [
      "\u001b[1;31m---------------------------------------------------------------------------\u001b[0m",
      "\u001b[1;31mLookupError\u001b[0m                               Traceback (most recent call last)",
      "Cell \u001b[1;32mIn[54], line 1\u001b[0m\n\u001b[1;32m----> 1\u001b[0m \u001b[43mfind_element\u001b[49m\u001b[43m(\u001b[49m\u001b[43m[\u001b[49m\u001b[38;5;241;43m1\u001b[39;49m\u001b[43m,\u001b[49m\u001b[38;5;241;43m2\u001b[39;49m\u001b[43m,\u001b[49m\u001b[38;5;241;43m3\u001b[39;49m\u001b[43m]\u001b[49m\u001b[43m,\u001b[49m\u001b[43m \u001b[49m\u001b[38;5;124;43m'\u001b[39;49m\u001b[38;5;124;43m3\u001b[39;49m\u001b[38;5;124;43m'\u001b[39;49m\u001b[43m)\u001b[49m\n",
      "Cell \u001b[1;32mIn[51], line 5\u001b[0m, in \u001b[0;36mfind_element\u001b[1;34m(target_list, element)\u001b[0m\n\u001b[0;32m      3\u001b[0m     \u001b[38;5;28;01mreturn\u001b[39;00m \u001b[38;5;28;01mTrue\u001b[39;00m\n\u001b[0;32m      4\u001b[0m \u001b[38;5;28;01melse\u001b[39;00m:\n\u001b[1;32m----> 5\u001b[0m     \u001b[38;5;28;01mraise\u001b[39;00m \u001b[38;5;167;01mLookupError\u001b[39;00m(\u001b[38;5;124mf\u001b[39m\u001b[38;5;124m\"\u001b[39m\u001b[38;5;124mEl elemento \u001b[39m\u001b[38;5;132;01m{\u001b[39;00melement\u001b[38;5;132;01m}\u001b[39;00m\u001b[38;5;124m no fue encontrado en la lista \u001b[39m\u001b[38;5;132;01m{\u001b[39;00mtarget_list\u001b[38;5;132;01m}\u001b[39;00m\u001b[38;5;124m\"\u001b[39m)\n",
      "\u001b[1;31mLookupError\u001b[0m: El elemento 3 no fue encontrado en la lista [1, 2, 3]"
     ]
    }
   ],
   "source": [
    "find_element([1,2,3], '3')"
   ]
  },
  {
   "cell_type": "markdown",
   "metadata": {},
   "source": [
    "<hr>"
   ]
  },
  {
   "cell_type": "markdown",
   "metadata": {},
   "source": [
    "Ejercicio 9\n",
    "Utilizando la consola de Python, definir la variable:\n",
    ">>> a_list = ['Pedro', 'Florencia', 'Matías', 'Jorge', 'María', 'Inés']\n",
    "\n",
    "Guardar un archivo csv con el contenido de la variable a_lis"
   ]
  },
  {
   "cell_type": "code",
   "execution_count": 2,
   "metadata": {},
   "outputs": [],
   "source": [
    "a_list = ['Pedro', 'Florencia', 'Matías', 'Jorge', 'María', 'Inés']"
   ]
  },
  {
   "cell_type": "code",
   "execution_count": 6,
   "metadata": {},
   "outputs": [],
   "source": [
    "with open('alist.csv', 'w+', encoding=\"UTF-8\") as f:\n",
    "    for element in a_list:\n",
    "        f.write(element + \"\\n\")"
   ]
  },
  {
   "cell_type": "markdown",
   "metadata": {},
   "source": [
    "Ejercicio 11\n",
    "Escribir un programa que permita gestionar la base de datos de clientes de una empresa (archivo csv).\n",
    "Los clientes se guardarán en un diccionario en el que la clave de cada cliente será su NIF, y el valor será\n",
    "otro diccionario con los datos del cliente (nombre, dirección, teléfono, correo, preferente), donde\n",
    "preferente tendrá el valor True si se trata de un cliente preferente.\n",
    "El programa debe preguntar al usuario por una opción del siguiente menú: (1) Abrir base de datos, (2)\n",
    "Añadir cliente, (3) Eliminar cliente, (4) Mostrar cliente, (5) Listar todos los clientes, (6) Listar clientes\n",
    "preferentes, (7) guardar cambios, (8) Terminar.\n",
    "En función de la opción elegida el programa tendrá que hacer lo siguiente:\n",
    "- Preguntar el nombre (o ruta) del archivo, abrirlo y cargarlo en memoría en la estructura\n",
    "descrita anteriormente.\n",
    "- Preguntar los datos del cliente, crear un diccionario con los datos y añadirlo a la base de\n",
    "datos.\n",
    "- Preguntar por el NIF del cliente y eliminar sus datos de la base de datos.\n",
    "- Preguntar por el NIF del cliente y mostrar sus datos.\n",
    "- Mostrar lista de todos los clientes de la base de datos con su NIF y nombre.\n",
    "- Mostrar la lista de clientes preferentes de la base de datos con su NIF y nombre.\n",
    "- Guardar el diccionario en memoria en el archivo csv. Preguntar el nombre del archivo (o ruta)\n",
    "donde se va a guardar la base de datos de clientes.\n",
    "- Terminar el programa.\n"
   ]
  },
  {
   "cell_type": "code",
   "execution_count": 24,
   "metadata": {},
   "outputs": [],
   "source": [
    "import csv"
   ]
  },
  {
   "cell_type": "code",
   "execution_count": 4,
   "metadata": {},
   "outputs": [],
   "source": [
    "class Client():\n",
    "    def __init__(self):\n",
    "        self.nif = input(\"Indicar un NIF: \")\n",
    "        self.name = input(\"Indicar un nombre: \")"
   ]
  },
  {
   "cell_type": "code",
   "execution_count": 5,
   "metadata": {},
   "outputs": [],
   "source": [
    "persona = Client()"
   ]
  },
  {
   "cell_type": "code",
   "execution_count": 7,
   "metadata": {},
   "outputs": [
    {
     "data": {
      "text/plain": [
       "'1'"
      ]
     },
     "execution_count": 7,
     "metadata": {},
     "output_type": "execute_result"
    }
   ],
   "source": [
    "persona.nif"
   ]
  },
  {
   "cell_type": "code",
   "execution_count": 33,
   "metadata": {},
   "outputs": [],
   "source": [
    "class Database():\n",
    "    def __init__(self):\n",
    "        self.route = input(\"Indicar una ruta: \")\n",
    "\n",
    "    def create(self):\n",
    "        new = Client()  \n",
    "        with open(self.route, 'a', encoding=\"UTF-8\") as f: \n",
    "            f.write(f\"{new.name}, {new.nif}\\n\")  \n",
    "\n",
    "    def destroy(self, nif):\n",
    "        pass\n",
    "\n",
    "    def view(self):\n",
    "        pass\n",
    "\n",
    "    def index(self, nif):\n",
    "        pass\n",
    "\n",
    "    def prefered(self):\n",
    "        pass"
   ]
  },
  {
   "cell_type": "code",
   "execution_count": 31,
   "metadata": {},
   "outputs": [],
   "source": [
    "conn = Database()"
   ]
  },
  {
   "cell_type": "code",
   "execution_count": 32,
   "metadata": {},
   "outputs": [],
   "source": [
    "conn.create()"
   ]
  },
  {
   "cell_type": "markdown",
   "metadata": {},
   "source": [
    "Ejercicio 12\n",
    "Leer el archivo Products.csv. Guardar los productos en una lista. Convertir cada dato al tipo de dato\n",
    "conveniente. Los números a int o floats, las fechas a datetime, etc.\n"
   ]
  },
  {
   "cell_type": "code",
   "execution_count": 87,
   "metadata": {},
   "outputs": [],
   "source": [
    "with open('products.csv', 'r', encoding=\"UTF-8\") as f:\n",
    "        data = csv.DictReader(f)\n",
    "        result = []\n",
    "        for i in data:\n",
    "                if(i['productType'] == \"PRODUCT\"):\n",
    "                        result.append(i)"
   ]
  },
  {
   "cell_type": "code",
   "execution_count": 90,
   "metadata": {},
   "outputs": [],
   "source": [
    "for element in result:\n",
    "    element['value'] = float(element['value'])"
   ]
  },
  {
   "cell_type": "code",
   "execution_count": 91,
   "metadata": {},
   "outputs": [
    {
     "data": {
      "text/plain": [
       "{'partNumber': 'CO-AM-S393',\n",
       " 'productType': 'PRODUCT',\n",
       " 'category.code': 'Ambient',\n",
       " 'brand.code': 'Commercial',\n",
       " 'family.code': 'Stinson ',\n",
       " 'line.code': '',\n",
       " 'productSegment.code': '',\n",
       " 'status': 'ACTIVE',\n",
       " 'value': 183.0,\n",
       " 'valueCurrency': ' USD ',\n",
       " 'defaultQuantityUnits': ' EA ',\n",
       " 'name': 'Stinson Exterior daylight sensing area LED',\n",
       " 'description': 'Commercial Ambient - Stinson Exterior daylight sensing area LED',\n",
       " 'plannerCode': 'Lighting',\n",
       " 'sourceLink': 'http://lighttree.com/CO-AM-S393'}"
      ]
     },
     "execution_count": 91,
     "metadata": {},
     "output_type": "execute_result"
    }
   ],
   "source": [
    "element"
   ]
  }
 ],
 "metadata": {
  "kernelspec": {
   "display_name": "Python 3",
   "language": "python",
   "name": "python3"
  },
  "language_info": {
   "codemirror_mode": {
    "name": "ipython",
    "version": 3
   },
   "file_extension": ".py",
   "mimetype": "text/x-python",
   "name": "python",
   "nbconvert_exporter": "python",
   "pygments_lexer": "ipython3",
   "version": "3.11.9"
  }
 },
 "nbformat": 4,
 "nbformat_minor": 2
}
