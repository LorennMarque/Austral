{
 "cells": [
  {
   "cell_type": "markdown",
   "metadata": {},
   "source": [
    "Ejercicio 1\n",
    "Defina una función que reciba un número n y devuelva la suma de 1 hasta n de forma iterativa."
   ]
  },
  {
   "cell_type": "code",
   "execution_count": 17,
   "metadata": {},
   "outputs": [],
   "source": [
    "def sum_until_num(num):\n",
    "    print(f\"Initial number {num}\")\n",
    "    result = 0\n",
    "    for i in range(num):\n",
    "        result += num\n",
    "        num -= 1\n",
    "        print(f\"Cuenta es {result} + {num}\")\n",
    "    return result"
   ]
  },
  {
   "cell_type": "code",
   "execution_count": 23,
   "metadata": {},
   "outputs": [
    {
     "name": "stdout",
     "output_type": "stream",
     "text": [
      "Cuenta es 2 + 1\n",
      "Cuenta es 3 + 0\n"
     ]
    },
    {
     "data": {
      "text/plain": [
       "3"
      ]
     },
     "execution_count": 23,
     "metadata": {},
     "output_type": "execute_result"
    }
   ],
   "source": [
    "sum_until_num(2)"
   ]
  },
  {
   "cell_type": "markdown",
   "metadata": {},
   "source": [
    "Ejercicio 2\n",
    "Defina una función que reciba un número n y devuelva el producto de 1 hasta n de forma iterativa.\n"
   ]
  },
  {
   "cell_type": "code",
   "execution_count": 29,
   "metadata": {},
   "outputs": [],
   "source": [
    "def multiply_until_num(num):\n",
    "    print(f\"Initial number {num}\")\n",
    "    result = 1\n",
    "    for i in range(num):\n",
    "        result *= num\n",
    "        num -= 1\n",
    "        print(f\"Cuenta es {result} * {num}\")\n",
    "    return result"
   ]
  },
  {
   "cell_type": "code",
   "execution_count": 30,
   "metadata": {},
   "outputs": [
    {
     "name": "stdout",
     "output_type": "stream",
     "text": [
      "Cuenta es 5 * 4\n",
      "Cuenta es 20 * 3\n",
      "Cuenta es 60 * 2\n",
      "Cuenta es 120 * 1\n",
      "Cuenta es 120 * 0\n"
     ]
    },
    {
     "data": {
      "text/plain": [
       "120"
      ]
     },
     "execution_count": 30,
     "metadata": {},
     "output_type": "execute_result"
    }
   ],
   "source": [
    "multiply_until_num(5)"
   ]
  },
  {
   "cell_type": "markdown",
   "metadata": {},
   "source": [
    "Ejercicio 3\n",
    "Defina una función que reciba un número entero y devuelva la cantidad de ceros que tiene de forma\n",
    "iterativa.\n"
   ]
  },
  {
   "cell_type": "code",
   "execution_count": null,
   "metadata": {},
   "outputs": [],
   "source": []
  },
  {
   "cell_type": "markdown",
   "metadata": {},
   "source": [
    "Ejercicio 7\n",
    "Definir una función que genere números enteros aleatorios del 1 al 10 hasta que salga un número par"
   ]
  },
  {
   "cell_type": "code",
   "execution_count": 31,
   "metadata": {},
   "outputs": [],
   "source": [
    "import random"
   ]
  },
  {
   "cell_type": "code",
   "execution_count": 39,
   "metadata": {},
   "outputs": [],
   "source": [
    "def find_even():\n",
    "    number = random.randint(1,10)\n",
    "    while number % 2 != 0:\n",
    "         print(number)\n",
    "         number = random.randint(1, 10)\n",
    "         print(number)\n",
    "    return f\"Found! {number}\"\n"
   ]
  },
  {
   "cell_type": "code",
   "execution_count": 44,
   "metadata": {},
   "outputs": [
    {
     "name": "stdout",
     "output_type": "stream",
     "text": [
      "5\n",
      "7\n",
      "7\n",
      "4\n"
     ]
    },
    {
     "data": {
      "text/plain": [
       "'Found! 4'"
      ]
     },
     "execution_count": 44,
     "metadata": {},
     "output_type": "execute_result"
    }
   ],
   "source": [
    "find_even()"
   ]
  },
  {
   "cell_type": "markdown",
   "metadata": {},
   "source": [
    "Ejercicio 8\n",
    "1. Escriba un script de Python que muestre un menú de opciones (con 5 opciones) y le solicite al usuario\n",
    "ingresar una opción.\n",
    "\n",
    "2. Si selecciona la opción cero entonces que termine el programa. Si selecciona otra opción imprimir \n",
    "> “Usted seleccionó la opción n del menú de opciones” \n",
    "\n",
    "y volver a mostrar el menú para que seleccione otra\n",
    "\n",
    "3. opción.\n",
    "Considerar el caso donde el usuario ingresa una opción inválida. En ese caso indicarle al usuario que la\n",
    "opción ingresada no es válida"
   ]
  },
  {
   "cell_type": "code",
   "execution_count": 57,
   "metadata": {},
   "outputs": [],
   "source": [
    "def show_menu(options=5):\n",
    "    print(\"-----------------\")\n",
    "    for i in range(options):\n",
    "        print(f\"Option [{i+1}]\")\n",
    "    print(\"Select 0 to exit\")\n",
    "    user_choice = int(input(f\"Choose an option [0 - {options}]: \"))\n",
    "    print(\"-----------------\")\n",
    "    if(user_choice == 0):\n",
    "        return \"Exit ☠️\"\n",
    "    elif(user_choice in range(options)):\n",
    "        print(f\"Usted seleccionó la opción {user_choice} del menú de opciones\")\n",
    "    else:\n",
    "        print(\"Not a valid option ❌\")"
   ]
  },
  {
   "cell_type": "code",
   "execution_count": 61,
   "metadata": {},
   "outputs": [
    {
     "name": "stdout",
     "output_type": "stream",
     "text": [
      "-----------------\n",
      "Option [1]\n",
      "Option [2]\n",
      "Option [3]\n",
      "Option [4]\n",
      "Option [5]\n",
      "Select 0 to exit\n",
      "-----------------\n",
      "User choice => 4\n",
      "Usted seleccionó la opción 4 del menú de opciones\n"
     ]
    }
   ],
   "source": [
    "show_menu()"
   ]
  },
  {
   "cell_type": "markdown",
   "metadata": {},
   "source": [
    "Ejercicio 9\n",
    "Definir una función que reciba un string y devuelva las vocales del mismo.\n"
   ]
  },
  {
   "cell_type": "code",
   "execution_count": 67,
   "metadata": {},
   "outputs": [],
   "source": [
    "def return_vowels(string):\n",
    "    ret = \"\"\n",
    "    vowels = ['a', 'e', 'i','o','u', ' ']\n",
    "    for letter in string:\n",
    "        if letter in vowels:\n",
    "            ret += letter \n",
    "    return ret"
   ]
  },
  {
   "cell_type": "code",
   "execution_count": 68,
   "metadata": {},
   "outputs": [
    {
     "data": {
      "text/plain": [
       "'oa oo ea'"
      ]
     },
     "execution_count": 68,
     "metadata": {},
     "output_type": "execute_result"
    }
   ],
   "source": [
    "return_vowels(\"Hola como estas\")"
   ]
  },
  {
   "cell_type": "markdown",
   "metadata": {},
   "source": [
    "Ejercicio 14\n",
    "Definir una función que reciba una lista y una función que reciba un parámetro, y devuelva una lista con\n",
    "el resultado de evaluar la función a cada uno de los elementos de la lista recibida como parámetro."
   ]
  },
  {
   "cell_type": "code",
   "execution_count": 70,
   "metadata": {},
   "outputs": [],
   "source": [
    "def cross_function(given_list, function):\n",
    "    results = []\n",
    "    for item in given_list:\n",
    "        results.append(function(item))\n",
    "    return results"
   ]
  },
  {
   "cell_type": "code",
   "execution_count": 71,
   "metadata": {},
   "outputs": [
    {
     "data": {
      "text/plain": [
       "[2, 4, 6]"
      ]
     },
     "execution_count": 71,
     "metadata": {},
     "output_type": "execute_result"
    }
   ],
   "source": [
    "cross_function([1,2,3], lambda x:x*2)"
   ]
  }
 ],
 "metadata": {
  "kernelspec": {
   "display_name": "Python 3",
   "language": "python",
   "name": "python3"
  },
  "language_info": {
   "codemirror_mode": {
    "name": "ipython",
    "version": 3
   },
   "file_extension": ".py",
   "mimetype": "text/x-python",
   "name": "python",
   "nbconvert_exporter": "python",
   "pygments_lexer": "ipython3",
   "version": "3.11.9"
  }
 },
 "nbformat": 4,
 "nbformat_minor": 2
}
