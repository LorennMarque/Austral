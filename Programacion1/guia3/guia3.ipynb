{
 "cells": [
  {
   "cell_type": "markdown",
   "metadata": {},
   "source": [
    "Ejercicio 1\n",
    "Escriba un script de Python que solicite al usuario ingresar un número e imprima en pantalla si el número\n",
    "ingresado es par o impar.\n"
   ]
  },
  {
   "cell_type": "code",
   "execution_count": 1,
   "metadata": {},
   "outputs": [
    {
     "name": "stdout",
     "output_type": "stream",
     "text": [
      "Es par\n"
     ]
    }
   ],
   "source": [
    "print(\"Es par\" if int(input()) % 2 == 0 else \"Es impar\")"
   ]
  },
  {
   "cell_type": "markdown",
   "metadata": {},
   "source": [
    "Ejercicio 2\n",
    "Escriba un script de Python que solicite al usuario ingresar un mes del año y un año y devuelva el último\n",
    "día correspondiente a ese mes. Considerar años bisiestos también"
   ]
  },
  {
   "cell_type": "code",
   "execution_count": 10,
   "metadata": {},
   "outputs": [],
   "source": [
    "thirty_ones = [\"enero\",\"marzo\",\"mayo\",\"julio\", \"agosto\",\"octubre\",\"diciembre\"]\n",
    "\n",
    "def last_day(month, year):\n",
    "    if month.lower() == \"febrero\":\n",
    "        return 29 if (year % 400 == 0) or (year % 4 == 0 and year % 100 != 0) else 28\n",
    "    return 31 if month.lower() in thirty_ones else 30"
   ]
  },
  {
   "cell_type": "markdown",
   "metadata": {},
   "source": [
    "Ejercicio 3\n",
    "Escriba un script de Python que genere una secuencia de números aleatorios (dígitos de 0 a 9) hasta que\n",
    "haya dos números consecutivos iguales."
   ]
  },
  {
   "cell_type": "code",
   "execution_count": 60,
   "metadata": {},
   "outputs": [],
   "source": [
    "# import random\n",
    "\n",
    "# def repetition():\n",
    "#     # es este numero = al anterior? \n",
    "#     if old == new:\n",
    "#         return \"Numeros iguales\"\n",
    "    \n",
    "#     # no, agregar un numero\n",
    "        "
   ]
  },
  {
   "cell_type": "markdown",
   "metadata": {},
   "source": [
    "Ejercicio 4\n",
    "Escriba un script de Python que imprima un menú de opciones (con 5 opciones) y le solicite al usuario\n",
    "ingresar una opción. Luego imprimir “Usted seleccionó la opción n del menú de opciones”. Considerar el\n",
    "caso donde el usuario ingresa una opción inválida. En ese caso indicarle al usuario que la opción\n",
    "ingresada no es válida.\n"
   ]
  },
  {
   "cell_type": "code",
   "execution_count": 73,
   "metadata": {},
   "outputs": [
    {
     "name": "stdout",
     "output_type": "stream",
     "text": [
      "------- Main Menu ------\n",
      "[0] => Opción 0\n",
      "[1] => Opción 1\n",
      "[2] => Opción 2\n",
      "[3] => Opción 3\n",
      "[4] => Opción 4\n",
      "-----------------------\n",
      "Seleccionaste 4🫡\n"
     ]
    }
   ],
   "source": [
    "\n",
    "print(\"------- Main Menu ------\")\n",
    "for i in range(5):\n",
    "    print(f\"[{i}] => Opción {i}\")\n",
    "print(\"-----------------------\")\n",
    "\n",
    "choice = input(\"selecciona una opcion: \")\n",
    "print (\"Seleccionaste \" + choice + \"🫡\" if int(choice) in range(5) else \"❌☠️⛓️ NO ADMITIDO ⛓️☠️❌\")\n",
    "\n"
   ]
  },
  {
   "cell_type": "markdown",
   "metadata": {},
   "source": [
    "5. En la consola de Python escriba la siguientes sentencias:"
   ]
  },
  {
   "cell_type": "code",
   "execution_count": 75,
   "metadata": {},
   "outputs": [
    {
     "name": "stdout",
     "output_type": "stream",
     "text": [
      "SI\n",
      "NO\n"
     ]
    }
   ],
   "source": [
    "a_bool = True\n",
    "print('SI' if a_bool else 'NO')\n",
    "a_bool = False\n",
    "print('SI' if a_bool else 'NO')\n"
   ]
  },
  {
   "cell_type": "markdown",
   "metadata": {},
   "source": [
    " ¿Que se imprime en pantalla en cada caso?\n",
    "b. Utilizar el if en una línea para indicar imprimir en pantalla si una variable es de tipo entero o\n",
    "no.\n"
   ]
  },
  {
   "cell_type": "code",
   "execution_count": 80,
   "metadata": {},
   "outputs": [
    {
     "name": "stdout",
     "output_type": "stream",
     "text": [
      "Es entero\n"
     ]
    }
   ],
   "source": [
    "x = 5\n",
    "print(\"Es entero\" if type(x) == int else \"NO\")"
   ]
  },
  {
   "cell_type": "markdown",
   "metadata": {},
   "source": [
    "Ejercicio 6\n",
    "Definir una función que reciba un número entero y lo eleve al cuadrado"
   ]
  },
  {
   "cell_type": "code",
   "execution_count": 87,
   "metadata": {},
   "outputs": [
    {
     "data": {
      "text/plain": [
       "'Not an int'"
      ]
     },
     "execution_count": 87,
     "metadata": {},
     "output_type": "execute_result"
    }
   ],
   "source": [
    "def int_squared(number):\n",
    "    return (number**2 if type(number) == int else \"Not an int\")\n",
    "\n",
    "int_squared(4) # 16\n",
    "int_squared(4.2) # not an int"
   ]
  },
  {
   "cell_type": "markdown",
   "metadata": {},
   "source": [
    "Ejercicio 7\n",
    "Definir una función que reciba 2 números y devuelva el resultado de la suma si es par y si no devuelva el\n",
    "producto de los números.\n"
   ]
  },
  {
   "cell_type": "code",
   "execution_count": 88,
   "metadata": {},
   "outputs": [],
   "source": [
    "def sum_or_product(x, y):\n",
    "    return x + y if (x + y) % 2 == 0 else x - y"
   ]
  },
  {
   "cell_type": "markdown",
   "metadata": {},
   "source": [
    "Ejercicio 8\n",
    "Definir una función que reciba 2 números y devuelva el mayor."
   ]
  },
  {
   "cell_type": "code",
   "execution_count": 89,
   "metadata": {},
   "outputs": [],
   "source": [
    "def greater_num(x, y):\n",
    "    return x if x > y else y"
   ]
  },
  {
   "cell_type": "markdown",
   "metadata": {},
   "source": [
    "Ejercicio 9\n",
    "Definir una función que imprima en pantalla la suma de 3 números recibidos como parámetro."
   ]
  },
  {
   "cell_type": "code",
   "execution_count": 92,
   "metadata": {},
   "outputs": [
    {
     "name": "stdout",
     "output_type": "stream",
     "text": [
      "6\n"
     ]
    }
   ],
   "source": [
    "def sum_numbers(x,y,z):\n",
    "    return x + y + z \n",
    "\n",
    "print(sum_numbers(1,2,3))"
   ]
  },
  {
   "cell_type": "markdown",
   "metadata": {},
   "source": [
    "Ejercicio 10\n",
    "Definir una función que imprima en pantalla la fecha del día de hoy\n",
    "\n",
    "Hint: utilice la librería datetime. Llamar a la función datetime.date.today()"
   ]
  },
  {
   "cell_type": "code",
   "execution_count": 101,
   "metadata": {},
   "outputs": [
    {
     "name": "stdout",
     "output_type": "stream",
     "text": [
      "25\n"
     ]
    }
   ],
   "source": [
    "import datetime\n",
    "print(datetime.date.today().day)"
   ]
  },
  {
   "cell_type": "markdown",
   "metadata": {},
   "source": [
    "Expresiones Lambda\n",
    "Ejercicio 11\n",
    "Definir una función lambda que reciba como argumento una variable x y como resultado devuelva x + 1.\n"
   ]
  },
  {
   "cell_type": "code",
   "execution_count": 106,
   "metadata": {},
   "outputs": [
    {
     "data": {
      "text/plain": [
       "13"
      ]
     },
     "execution_count": 106,
     "metadata": {},
     "output_type": "execute_result"
    }
   ],
   "source": [
    "add_1 = lambda x:x +1\n",
    "add_1 (12)"
   ]
  },
  {
   "cell_type": "markdown",
   "metadata": {},
   "source": [
    "Ejercicio 12\n",
    "Definir una función lambda que reciba como argumentos dos variable a y b y como resultado devuelva la\n",
    "suma de a y b"
   ]
  },
  {
   "cell_type": "code",
   "execution_count": 107,
   "metadata": {},
   "outputs": [
    {
     "data": {
      "text/plain": [
       "3"
      ]
     },
     "execution_count": 107,
     "metadata": {},
     "output_type": "execute_result"
    }
   ],
   "source": [
    "add_numbers = lambda x,y:x+y\n",
    "add_numbers(1,2)"
   ]
  },
  {
   "cell_type": "markdown",
   "metadata": {},
   "source": [
    "Ejercicio 13\n",
    "Escribir una función lambda que reciba un número que representa el radio de una circunferencia y\n",
    "devuelva el área de la misma."
   ]
  },
  {
   "cell_type": "code",
   "execution_count": 108,
   "metadata": {},
   "outputs": [],
   "source": [
    "import math"
   ]
  },
  {
   "cell_type": "code",
   "execution_count": 114,
   "metadata": {},
   "outputs": [
    {
     "data": {
      "text/plain": [
       "314.1592653589793"
      ]
     },
     "execution_count": 114,
     "metadata": {},
     "output_type": "execute_result"
    }
   ],
   "source": [
    "area = lambda radius: radius **2 * math.pi \n",
    "area(10)"
   ]
  },
  {
   "cell_type": "markdown",
   "metadata": {},
   "source": [
    "Funciones Recursivas\n",
    "Ejercicio 14\n",
    "\n",
    "El factorial se define como:\n",
    "fac(n) = n * fac(n-1)\n",
    "Con\n",
    "fac(0) = 1\n",
    "\n",
    "Definir una función recursiva que devuelva n factorial (n!)\n"
   ]
  },
  {
   "cell_type": "code",
   "execution_count": 6,
   "metadata": {},
   "outputs": [
    {
     "data": {
      "text/plain": [
       "3628800"
      ]
     },
     "execution_count": 6,
     "metadata": {},
     "output_type": "execute_result"
    }
   ],
   "source": [
    "def factorial(number):\n",
    "    if number <= 1:\n",
    "        return 1\n",
    "    return number * factorial(number - 1)\n",
    "\n",
    "factorial(0) # 1\n",
    "factorial(10) #3628800"
   ]
  },
  {
   "cell_type": "markdown",
   "metadata": {},
   "source": [
    "## Ejercicio 15\n",
    "\n",
    "La sucesión de Fibonacci se define como:\n",
    "fib(n) = fib(n-1) + fib(n-2)\n",
    "Con\n",
    "fib(0) = 0\n",
    "fib(1) = 1\n",
    "Definir una función recursiva que devuelva el número n-ésimo de Fibonacci"
   ]
  },
  {
   "cell_type": "code",
   "execution_count": 8,
   "metadata": {},
   "outputs": [
    {
     "data": {
      "text/plain": [
       "55"
      ]
     },
     "execution_count": 8,
     "metadata": {},
     "output_type": "execute_result"
    }
   ],
   "source": [
    "fibonacci = lambda n: n if n <= 1 else fibonacci(n - 1) + fibonacci(n - 2)\n",
    "fibonacci(10)"
   ]
  },
  {
   "cell_type": "markdown",
   "metadata": {},
   "source": [
    "Ejercicio 16\n",
    "Defina una función recursiva que reciba un número entero y devuelva la cantidad de ceros que tiene"
   ]
  },
  {
   "cell_type": "code",
   "execution_count": null,
   "metadata": {},
   "outputs": [],
   "source": []
  },
  {
   "cell_type": "markdown",
   "metadata": {},
   "source": [
    "Ejercicio 17\n",
    "Defina una función recursiva que reciba un número e indique si el mismo es primo.\n"
   ]
  },
  {
   "cell_type": "code",
   "execution_count": null,
   "metadata": {},
   "outputs": [],
   "source": []
  },
  {
   "cell_type": "markdown",
   "metadata": {},
   "source": [
    "Ejercicio 18\n",
    "Defina una función recursiva que reciba un número n y devuelva la suma de 1 hasta n.\n"
   ]
  },
  {
   "cell_type": "code",
   "execution_count": 14,
   "metadata": {},
   "outputs": [],
   "source": [
    "sum_to_n = lambda n: 0 if n < 0 else n if n == 0 else n + sum_to_n(n-1)\n",
    "# s = lambda n: 0 if n < 0 else n if n == 0 else n + s(n-1)"
   ]
  },
  {
   "cell_type": "code",
   "execution_count": 15,
   "metadata": {},
   "outputs": [
    {
     "data": {
      "text/plain": [
       "3"
      ]
     },
     "execution_count": 15,
     "metadata": {},
     "output_type": "execute_result"
    }
   ],
   "source": [
    "sum_to_n(-2) # 0\n",
    "sum_to_n(2) # 3"
   ]
  },
  {
   "cell_type": "markdown",
   "metadata": {},
   "source": [
    "Ejercicio 19\n",
    "Defina una función recursiva que reciba un número n y devuelva el producto de 1 hasta n.\n"
   ]
  },
  {
   "cell_type": "code",
   "execution_count": null,
   "metadata": {},
   "outputs": [],
   "source": []
  },
  {
   "cell_type": "markdown",
   "metadata": {},
   "source": [
    "Decoradores\n",
    "Ejercicio 20\n",
    "Definir un decorador que chequee que los argumentos pasados por parámetro a la función sean números\n",
    "enteros. Si no lo son, no ejecute la función e imprima en pantalla que los argumentos deben ser números\n",
    "enteros.\n"
   ]
  },
  {
   "cell_type": "code",
   "execution_count": null,
   "metadata": {},
   "outputs": [],
   "source": []
  },
  {
   "cell_type": "markdown",
   "metadata": {},
   "source": [
    "Otras funciones\n",
    "Ejercicio 21\n",
    "En una consola interactiva de Python ejecutar las siguientes sentencias. ¿Qué devuelve cada una?\n",
    ">>> list(range(5))\n",
    ">>> list(range(1,5))\n",
    ">>> list(range(2,13,2))\n",
    ">>> list(range(2, 20, -1)\n",
    "a. ¿Que realiza la función range?\n",
    "b. ¿Qué parámetros recibe?¿son todos obligatorios?¿Para qué sirve cada uno?\n",
    "c. ¿Qué devuelve?¿Por qué lo convertimos a una lista con la función list()?"
   ]
  },
  {
   "cell_type": "markdown",
   "metadata": {},
   "source": [
    "Ejercicio 22\n",
    "En una consola interactiva de Python ejecutar las siguientes sentencias. ¿Qué devuelve cada una?\n",
    ">>> print(“Hola”, “mundo”)\n",
    ">>> print(“esto”, “es”, “un”, “ejemplo”, sep=’-’)\n",
    ">>> print(“esto”, “es”, “un”, “ejemplo”, sep=’|’)\n",
    ">>> print(“esto”, “es”, “un”, “ejemplo”, sep=’-’)\n",
    ">>> print(“esto”, “es”, “un”, “ejemplo”, end=’$’)\n",
    ">>> print(“esto”, “es”, “un”, “ejemplo”, sep=’, ’, end=’$’)\n"
   ]
  }
 ],
 "metadata": {
  "kernelspec": {
   "display_name": "Python 3",
   "language": "python",
   "name": "python3"
  },
  "language_info": {
   "codemirror_mode": {
    "name": "ipython",
    "version": 3
   },
   "file_extension": ".py",
   "mimetype": "text/x-python",
   "name": "python",
   "nbconvert_exporter": "python",
   "pygments_lexer": "ipython3",
   "version": "3.11.8"
  }
 },
 "nbformat": 4,
 "nbformat_minor": 2
}
