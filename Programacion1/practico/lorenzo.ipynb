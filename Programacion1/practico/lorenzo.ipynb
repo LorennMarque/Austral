{
 "cells": [
  {
   "cell_type": "markdown",
   "metadata": {},
   "source": [
    "### Escribir una función que reciba dos listas de números y devuelva una lista nueva que intercala elementos transformados de cada una de las listas de la siguiente manera:\n",
    "\n",
    "De la primera lista poner la suma desde el elemento actual hasta el final de la lista.\n",
    "De la segunda lista poner la multioplicación desde el elemento actual hasta el final de la lista.\n",
    "\n",
    "\n",
    "Ejemplos:\n",
    "\n",
    "myfunc([1,2,3], [1,2,3]) devuelve [6, 6, 5, 6, 3, 3]\n",
    "\n",
    "myfunc([1,2,3,4], [2,3,4]) devuelve [10, 24, 9, 12, 7, 4, 4]\n",
    "\n",
    "myfunc([10, 11], [5, 4, 7]) devuelve [21, 140, 11, 28, 7]"
   ]
  },
  {
   "cell_type": "code",
   "execution_count": 148,
   "metadata": {},
   "outputs": [],
   "source": [
    "def myfunc(list1, list2):\n",
    "    # Resolver lista 1\n",
    "    new_list_1 = []\n",
    "    for _ in range(len(list1)):\n",
    "        new_list_1.append(sum(list1))\n",
    "        list1.pop(0)\n",
    "\n",
    "    # Resolver lista 2\n",
    "    new_list_2 = []\n",
    "    for _ in range(len(list2)):\n",
    "        mult = 1\n",
    "        for num in list2:\n",
    "            mult *= num\n",
    "        new_list_2.append(mult)\n",
    "        list2.pop(0)\n",
    "\n",
    "    # igualar longitud de la lista y almacenar elementos extra\n",
    "    deleted_elements = []\n",
    "    while len(new_list_1) > len(new_list_2):\n",
    "        deleted_elements.append(new_list_1.pop())\n",
    "\n",
    "    while len(new_list_2) > len(new_list_1):\n",
    "        deleted_elements.append(new_list_2.pop())\n",
    "\n",
    "    # Intercalar listas\n",
    "    ans = []\n",
    "    for item1, item2 in zip(new_list_1, new_list_2):\n",
    "        ans.extend([item1, item2])\n",
    "\n",
    "    for item in deleted_elements:\n",
    "        ans.append(item)\n",
    "    \n",
    "    return ans"
   ]
  },
  {
   "cell_type": "code",
   "execution_count": 146,
   "metadata": {},
   "outputs": [
    {
     "data": {
      "text/plain": [
       "[6, 6, 5, 6, 3, 3]"
      ]
     },
     "execution_count": 146,
     "metadata": {},
     "output_type": "execute_result"
    }
   ],
   "source": [
    "\n",
    "myfunc([1,2,3], [1,2,3]) \n",
    "# Expected [6, 6, 5, 6, 3, 3] ✅"
   ]
  },
  {
   "cell_type": "code",
   "execution_count": 149,
   "metadata": {},
   "outputs": [
    {
     "data": {
      "text/plain": [
       "[10, 24, 9, 12, 7, 4, 4]"
      ]
     },
     "execution_count": 149,
     "metadata": {},
     "output_type": "execute_result"
    }
   ],
   "source": [
    "myfunc([1,2,3,4], [2,3,4]) \n",
    "#devuelve [10, 24, 9, 12, 7, 4, 4] ✅"
   ]
  },
  {
   "cell_type": "code",
   "execution_count": 150,
   "metadata": {},
   "outputs": [
    {
     "data": {
      "text/plain": [
       "[21, 140, 11, 28, 7]"
      ]
     },
     "execution_count": 150,
     "metadata": {},
     "output_type": "execute_result"
    }
   ],
   "source": [
    "myfunc([10, 11], [5, 4, 7])# devuelve [21, 140, 11, 28, 7] ✅"
   ]
  }
 ],
 "metadata": {
  "kernelspec": {
   "display_name": "Python 3",
   "language": "python",
   "name": "python3"
  },
  "language_info": {
   "codemirror_mode": {
    "name": "ipython",
    "version": 3
   },
   "file_extension": ".py",
   "mimetype": "text/x-python",
   "name": "python",
   "nbconvert_exporter": "python",
   "pygments_lexer": "ipython3",
   "version": "3.11.9"
  }
 },
 "nbformat": 4,
 "nbformat_minor": 2
}
